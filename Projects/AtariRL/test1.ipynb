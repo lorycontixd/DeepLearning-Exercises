{
 "cells": [
  {
   "cell_type": "code",
   "execution_count": 12,
   "id": "862f27d0",
   "metadata": {},
   "outputs": [],
   "source": [
    "import numpy as np\n",
    "from matplotlib import pyplot as plt\n",
    "from dataclasses import dataclass"
   ]
  },
  {
   "cell_type": "markdown",
   "id": "3e44dbc6",
   "metadata": {},
   "source": []
  },
  {
   "cell_type": "code",
   "execution_count": 13,
   "id": "9556fbe8",
   "metadata": {},
   "outputs": [],
   "source": [
    "# Environment\n",
    "\n",
    "@dataclass\n",
    "class QSettings():\n",
    "    epsilon: float\n",
    "    discount: float\n",
    "    learning_rate: float\n",
    "        \n",
    "\n",
    "class Environment():\n",
    "    def __init__(self, nrows: int, ncols: int, starting_location: tuple, end_location: tuple, nobstacles: int, qsettings: QSettings):\n",
    "        self.nrows = nrows\n",
    "        self.ncols = ncols\n",
    "        self.mapsize = (nrows, ncols)\n",
    "        self.starting_location = starting_location\n",
    "        self.default_location = self.starting_location\n",
    "        self.startingrow, self.startingcol = self.starting_location\n",
    "        self.end_location = end_location\n",
    "        self.endrow, self.endcol = self.end_location\n",
    "        self.nobstacles = nobstacles\n",
    "        self.qsettings = qsettings\n",
    "        self.actions = ['up', 'down', 'left', 'right']\n",
    "        \n",
    "        self.currentrow, self.currentcol = self.starting_location\n",
    "        \n",
    "        self.obstacles = []\n",
    "        self.rewards = np.full((self.nrows, self.ncols), -1.)\n",
    "        self.qtable = np.zeros((self.nrows, self.ncols, len(self.actions))) # nrows x ncols x nactions\n",
    "        \n",
    "        self.basereward = -1\n",
    "        self.enemyreward = -300\n",
    "        self.endreward = 300\n",
    "        \n",
    "        self.__build_obstacles__()\n",
    "        self.__build_rewards__()\n",
    "        \n",
    "        self.initialized = True\n",
    "        self.trained = False\n",
    "        self.ran = False\n",
    "        \n",
    "    def __build_obstacles__(self):\n",
    "        if len(self.obstacles) <= 0:\n",
    "            while len(self.obstacles) < self.nobstacles:\n",
    "                randrow = np.random.randint(self.nrows)\n",
    "                randcol = np.random.randint(self.ncols)\n",
    "                if (randrow, randcol) not in self.obstacles:\n",
    "                    if (randrow,randcol) != self.starting_location and (randrow,randcol) != self.end_location:\n",
    "                        self.obstacles.append((randrow, randcol))\n",
    "                        \n",
    "                        \n",
    "    def __build_rewards__(self):\n",
    "        for obstacle in self.obstacles:\n",
    "            ob_row, ob_col = obstacle\n",
    "            self.rewards[ob_row][ob_col] = self.enemyreward\n",
    "        self.rewards[self.end_location[0]][self.end_location[1]] = self.endreward\n",
    "    \n",
    "    \n",
    "    def is_enemy(self, row, col):\n",
    "        return self.rewards[row][col] == self.enemyreward\n",
    "    def is_end(self, row, col):\n",
    "        return self.rewards[row][col] == self.endreward\n",
    "    \n",
    "    \n",
    "    def get_next_action(self, current_row_index, current_column_index):\n",
    "        \"\"\"Next action is decided based on the epsilon-greedy algorithm.\n",
    "        If a random number is smaller than a value epsilon, the max value from the queue table is selected.\n",
    "        Otherwise, if the random number is larger, pick a random action\n",
    "        \"\"\"\n",
    "        if np.random.random() < self.qsettings.epsilon:\n",
    "            return np.argmax(self.qtable[current_row_index, current_column_index])\n",
    "        else: #choose a random action\n",
    "            return np.random.randint(len(self.actions))\n",
    "        \n",
    "    def get_next_location(self,current_row_index, current_column_index, action_index: int):\n",
    "        new_row_index = current_row_index\n",
    "        new_column_index = current_column_index\n",
    "        if self.actions[action_index] == 'up' and current_row_index > 0:\n",
    "            new_row_index -= 1\n",
    "        elif self.actions[action_index] == 'right' and current_column_index < self.ncols - 1:\n",
    "            new_column_index += 1\n",
    "        elif self.actions[action_index] == 'down' and current_row_index < self.nrows - 1:\n",
    "            new_row_index += 1\n",
    "        elif self.actions[action_index] == 'left' and current_column_index > 0:\n",
    "            new_column_index -= 1\n",
    "        return new_row_index, new_column_index\n",
    "    \n",
    "    def showmap(self):\n",
    "        print(len(self.obstacles))\n",
    "        if len(self.obstacles) > 0:\n",
    "            fig, ax = plt.subplots(figsize=(9,9))\n",
    "            ax.set_title(\"Reward map\")\n",
    "            ax.set_xlabel(\"col\")\n",
    "            ax.set_ylabel(\"row\")\n",
    "            rewardmap = self.rewards\n",
    "            rewardmap[self.startingrow][self.startingcol] = -50\n",
    "            ax.imshow(rewardmap)\n",
    "            plt.show()\n",
    "    \n",
    "    def showpath(self, path: list):\n",
    "        if self.run and len(path) > 0:\n",
    "            plt.clf()\n",
    "            newmap = self.rewards\n",
    "            newmap[path[0][0]][path[0][1]] = -50\n",
    "            print(\"===> \",path)\n",
    "            for pos in path:\n",
    "                r, c = pos\n",
    "                newmap[r][c] = 100\n",
    "            fig2, ax2 = plt.subplots(figsize=(9,9))\n",
    "            ax2.set_title(\"Reward map\")\n",
    "            ax2.set_xlabel(\"col\")\n",
    "            ax2.set_ylabel(\"row\")\n",
    "            ax2.imshow(newmap)\n",
    "        plt.show()\n",
    "    \n",
    "    def reset(self):\n",
    "        self.currentrow = self.startingrow\n",
    "        self.currentcol = self.startingcol\n",
    "            \n",
    "    def train(self, epochs: int, verbose: bool = False):\n",
    "        for epoch in range(epochs):\n",
    "            self.reset()\n",
    "            row, col = self.starting_location\n",
    "            while (not self.is_end(self.currentrow, self.currentcol)) and (not self.is_enemy(self.currentrow, self.currentcol)):\n",
    "                actionindex = self.get_next_action(self.currentrow, self.currentcol)\n",
    "                oldrow, oldcol = self.currentrow, self.currentcol\n",
    "                self.currentrow, self.currentcol = self.get_next_location(self.currentrow, self.currentcol, actionindex)\n",
    "                \n",
    "                reward = self.rewards[self.currentrow][self.currentcol]\n",
    "                old_q = self.qtable[oldrow, oldcol, actionindex]\n",
    "                temporaldiff = reward + (self.qsettings.discount * np.max(self.qtable[self.currentrow, self.currentcol])) - old_q\n",
    "                new_q = old_q + (self.qsettings.learning_rate * temporaldiff)\n",
    "                self.qtable[oldrow, oldcol, actionindex] = new_q\n",
    "        self.trained = True\n",
    "        print(\"Training complete\")\n",
    "        \n",
    "    \n",
    "    def run(self, maxiterations: int = 10000, startpos: tuple = None, verbose: bool = False):\n",
    "        if startpos is not None:\n",
    "            self.starting_location = startpos\n",
    "            self.startingrow = startpos[0]\n",
    "            self.startingcol = startpos[1]\n",
    "        if self.is_enemy(self.startingrow, self.startingcol) or self.is_end(self.startingrow, self.startingcol):\n",
    "            return []\n",
    "        else:\n",
    "            self.reset()\n",
    "            shortestpath = []\n",
    "            shortestpath.append(self.starting_location)\n",
    "            #i: int = 0\n",
    "            print(\"==> \",self.currentrow, self.currentcol)\n",
    "            while (not self.is_end(self.currentrow, self.currentcol)) and (not self.is_enemy(self.currentrow, self.currentcol)):\n",
    "                actionindex = self.get_next_action(self.currentrow, self.currentcol)\n",
    "                self.currentrow, self.currentcol = self.get_next_location(self.currentrow, self.currentcol, actionindex)\n",
    "                shortestpath.append((self.currentrow, self.currentcol))\n",
    "                #i+=1\n",
    "                #if (i >= maxiterations):\n",
    "                #    print(f\"Reached maximum iterations {maxiterations}. Current position: ({self.currentrow},{self.currentcol})\")\n",
    "                #    return []\n",
    "            self.ran = True\n",
    "            return shortestpath\n",
    "    \n",
    "    \n",
    "    \n",
    "            \n",
    "        "
   ]
  },
  {
   "cell_type": "code",
   "execution_count": 14,
   "id": "f6855dd7",
   "metadata": {},
   "outputs": [],
   "source": [
    "e = Environment(\n",
    "    30,30,\n",
    "    (1,1),\n",
    "    (28,28),\n",
    "    100,\n",
    "    QSettings(epsilon=0.9, discount=0.95, learning_rate=0.9)\n",
    ")"
   ]
  },
  {
   "cell_type": "code",
   "execution_count": 15,
   "id": "19552e06",
   "metadata": {},
   "outputs": [
    {
     "name": "stdout",
     "output_type": "stream",
     "text": [
      "100\n"
     ]
    },
    {
     "data": {
      "image/png": "[encoded data removed]",
      "text/plain": [
       "<Figure size 648x648 with 1 Axes>"
      ]
     },
     "metadata": {
      "needs_background": "light"
     },
     "output_type": "display_data"
    }
   ],
   "source": [
    "e.showmap()"
   ]
  },
  {
   "cell_type": "code",
   "execution_count": 16,
   "id": "eb941ca2",
   "metadata": {},
   "outputs": [
    {
     "name": "stdout",
     "output_type": "stream",
     "text": [
      "Training complete\n"
     ]
    }
   ],
   "source": [
    "e.train(100000)"
   ]
  },
  {
   "cell_type": "code",
   "execution_count": 17,
   "id": "38a73e7c",
   "metadata": {},
   "outputs": [
    {
     "name": "stdout",
     "output_type": "stream",
     "text": [
      "==>  1 1\n"
     ]
    }
   ],
   "source": [
    "shortestpath = e.run()"
   ]
  },
  {
   "cell_type": "code",
   "execution_count": 18,
   "id": "5288f5f3",
   "metadata": {},
   "outputs": [
    {
     "name": "stdout",
     "output_type": "stream",
     "text": [
      "===>  [(1, 1), (2, 1), (3, 1), (3, 2), (3, 3), (4, 3), (5, 3), (6, 3), (7, 3), (8, 3), (9, 3), (10, 3), (11, 3), (12, 3), (13, 3), (14, 3), (15, 3), (16, 3), (17, 3), (18, 3), (19, 3), (20, 3), (21, 3), (22, 3), (23, 3), (24, 3), (24, 4), (24, 5), (25, 5), (25, 6), (25, 7), (25, 6), (25, 7), (26, 7), (26, 8), (26, 9), (26, 10), (26, 11), (26, 12), (26, 13), (26, 14), (26, 15), (26, 16), (26, 17), (27, 17), (27, 18), (27, 19), (27, 20), (27, 21), (27, 20), (27, 21), (27, 22), (27, 23), (27, 24), (27, 25), (28, 25), (28, 26), (28, 27), (28, 28)]\n"
     ]
    },
    {
     "data": {
      "text/plain": [
       "<Figure size 432x288 with 0 Axes>"
      ]
     },
     "metadata": {},
     "output_type": "display_data"
    },
    {
     "data": {
      "image/png": "[encoded data removed]",
      "text/plain": [
       "<Figure size 648x648 with 1 Axes>"
      ]
     },
     "metadata": {
      "needs_background": "light"
     },
     "output_type": "display_data"
    }
   ],
   "source": [
    "e.showpath(shortestpath)"
   ]
  },
  {
   "cell_type": "code",
   "execution_count": 19,
   "id": "fe9a5c3c",
   "metadata": {},
   "outputs": [
    {
     "name": "stdout",
     "output_type": "stream",
     "text": [
      "[(1, 1), (2, 1), (3, 1), (3, 2), (3, 3), (4, 3), (5, 3), (6, 3), (7, 3), (8, 3), (9, 3), (10, 3), (11, 3), (12, 3), (13, 3), (14, 3), (15, 3), (16, 3), (17, 3), (18, 3), (19, 3), (20, 3), (21, 3), (22, 3), (23, 3), (24, 3), (24, 4), (24, 5), (25, 5), (25, 6), (25, 7), (25, 6), (25, 7), (26, 7), (26, 8), (26, 9), (26, 10), (26, 11), (26, 12), (26, 13), (26, 14), (26, 15), (26, 16), (26, 17), (27, 17), (27, 18), (27, 19), (27, 20), (27, 21), (27, 20), (27, 21), (27, 22), (27, 23), (27, 24), (27, 25), (28, 25), (28, 26), (28, 27), (28, 28)]\n"
     ]
    }
   ],
   "source": [
    "print(shortestpath)"
   ]
  },
  {
   "cell_type": "code",
   "execution_count": 20,
   "id": "45c2c55c",
   "metadata": {},
   "outputs": [
    {
     "name": "stdout",
     "output_type": "stream",
     "text": [
      "==>  9 22\n",
      "===>  [(9, 22), (10, 22), (9, 22), (10, 22), (9, 22), (10, 22), (9, 22), (10, 22), (10, 21), (10, 22), (11, 22), (12, 22), (12, 23), (12, 24), (13, 24), (14, 24), (15, 24), (16, 24), (16, 23), (16, 24), (17, 24), (17, 25), (18, 25), (19, 25), (20, 25), (20, 26), (21, 26), (22, 26), (22, 27), (23, 27), (24, 27), (25, 27), (26, 27), (27, 27), (28, 27), (28, 28), (27, 28), (27, 27), (26, 27), (27, 27), (28, 27), (28, 28), (27, 28), (28, 28), (27, 28), (28, 28), (27, 28), (28, 28), (27, 28), (28, 28), (27, 28), (28, 28), (27, 28), (28, 28), (27, 28), (28, 28), (27, 28), (28, 28), (27, 28), (28, 28), (27, 28), (28, 28), (27, 28), (28, 28), (27, 28), (28, 28), (27, 28), (28, 28), (27, 28), (28, 28), (27, 28), (28, 28), (27, 28), (28, 28), (27, 28), (28, 28), (27, 28), (28, 28), (27, 28), (28, 28), (27, 28), (28, 28), (27, 28), (28, 28), (27, 28), (28, 28), (27, 28), (28, 28), (27, 28), (28, 28), (27, 28), (28, 28), (27, 28), (28, 28), (27, 28), (28, 28), (27, 28), (28, 28), (27, 28), (28, 28), (27, 28), (28, 28), (27, 28), (28, 28), (27, 28), (28, 28), (27, 28), (28, 28), (27, 28), (28, 28), (27, 28), (28, 28), (27, 28), (28, 28), (27, 28), (28, 28), (27, 28), (28, 28), (27, 28), (28, 28), (27, 28), (28, 28), (28, 29)]\n"
     ]
    },
    {
     "data": {
      "text/plain": [
       "<Figure size 432x288 with 0 Axes>"
      ]
     },
     "metadata": {},
     "output_type": "display_data"
    },
    {
     "data": {
      "image/png": "[encoded data removed]",
      "text/plain": [
       "<Figure size 648x648 with 1 Axes>"
      ]
     },
     "metadata": {
      "needs_background": "light"
     },
     "output_type": "display_data"
    }
   ],
   "source": [
    "r2 = e.run(startpos=(9,22))\n",
    "e.showpath(r2)"
   ]
  },
  {
   "cell_type": "code",
   "execution_count": 21,
   "id": "8fede406",
   "metadata": {},
   "outputs": [
    {
     "name": "stdout",
     "output_type": "stream",
     "text": [
      "[[[-2.05485985e+00 -2.58830587e+00 -1.91574270e+00 -9.47662366e-01]\n",
      "  [-9.47662366e-01 -4.89449078e+01 -1.90027925e+00  5.50922461e-02]\n",
      "  [ 5.50922461e-02  1.11062342e+00 -9.47662366e-01  1.11062342e+00]\n",
      "  ...\n",
      "  [-1.29325959e+01 -1.30655622e+01 -2.99970000e+02 -1.30485490e+01]\n",
      "  [-1.30640246e+01 -1.27668828e+01 -1.29625877e+01 -2.97000000e+02]\n",
      "  [ 0.00000000e+00  0.00000000e+00  0.00000000e+00  0.00000000e+00]]\n",
      "\n",
      " [[-1.90027925e+00  5.50922461e-02 -9.47662366e-01 -4.89449078e+01]\n",
      "  [-9.47662366e-01  1.11062342e+00 -9.47662366e-01  1.11062342e+00]\n",
      "  [ 5.50922461e-02  2.22170886e+00 -4.89449078e+01  2.22170886e+00]\n",
      "  ...\n",
      "  [-1.29203754e+01 -1.28934439e+01 -1.30002123e+01 -1.30252391e+01]\n",
      "  [-1.27429536e+01 -1.31706467e+01 -1.29441880e+01 -1.31047624e+01]\n",
      "  [-2.99700000e+02 -1.31537361e+01 -1.28629754e+01 -1.31014122e+01]]\n",
      "\n",
      " [[-9.47662366e-01  1.11062342e+00  5.50922461e-02  1.11062342e+00]\n",
      "  [-4.89449078e+01  2.22170886e+00  5.50922461e-02  2.22170886e+00]\n",
      "  [ 1.11062342e+00  3.39127248e+00  1.11062342e+00  3.39127248e+00]\n",
      "  ...\n",
      "  [-1.27780124e+01 -1.25909895e+01 -1.26679366e+01 -1.32172172e+01]\n",
      "  [-1.30337167e+01 -1.30214519e+01 -1.29519962e+01 -1.31066229e+01]\n",
      "  [-1.30259659e+01 -2.99700000e+02 -1.31423849e+01 -1.31538467e+01]]\n",
      "\n",
      " ...\n",
      "\n",
      " [[-1.41661678e+01 -1.40149619e+01 -1.42081808e+01 -1.43145539e+01]\n",
      "  [-1.42480900e+01 -2.99700000e+02 -1.42083278e+01 -1.41876237e+01]\n",
      "  [-1.39011713e+01 -1.39096926e+01 -1.41935220e+01  4.80585699e+01]\n",
      "  ...\n",
      "  [ 2.54360000e+02  2.84000000e+02  2.54360000e+02  2.84000000e+02]\n",
      "  [ 2.68800000e+02  3.00000000e+02  2.68800000e+02 -3.00000000e+02]\n",
      "  [ 0.00000000e+00  0.00000000e+00  0.00000000e+00  0.00000000e+00]]\n",
      "\n",
      " [[-1.38894832e+01 -1.41139047e+01 -1.40126466e+01 -2.99700000e+02]\n",
      "  [ 0.00000000e+00  0.00000000e+00  0.00000000e+00  0.00000000e+00]\n",
      "  [-1.39548963e+01 -1.36781069e+01 -2.97000000e+02 -1.36655053e+01]\n",
      "  ...\n",
      "  [ 2.68800000e+02  2.68800000e+02  2.68800000e+02  3.00000000e+02]\n",
      "  [ 0.00000000e+00  0.00000000e+00  0.00000000e+00  0.00000000e+00]\n",
      "  [ 0.00000000e+00  0.00000000e+00  0.00000000e+00  0.00000000e+00]]\n",
      "\n",
      " [[-1.41308148e+01 -1.41114968e+01 -1.42307278e+01 -1.40257722e+01]\n",
      "  [-2.99970000e+02 -1.40009454e+01 -1.38474077e+01 -1.39706728e+01]\n",
      "  [-1.37074764e+01 -1.39618580e+01 -1.37060202e+01 -1.37044960e+01]\n",
      "  ...\n",
      "  [ 2.84000000e+02  2.68800000e+02  2.54360000e+02  2.84000000e+02]\n",
      "  [ 3.00000000e+02  2.84000000e+02  2.68800000e+02  2.68800000e+02]\n",
      "  [-2.70000000e+02 -9.00000000e-01  2.84000000e+02  0.00000000e+00]]]\n"
     ]
    }
   ],
   "source": [
    "print(e.qtable)"
   ]
  },
  {
   "cell_type": "code",
   "execution_count": 32,
   "id": "2167b564",
   "metadata": {},
   "outputs": [
    {
     "name": "stdout",
     "output_type": "stream",
     "text": [
      "[[-2.05485985e+00 -9.47662366e-01  5.50922461e-02  1.11062342e+00\n",
      "  -1.69400711e+01  3.18943820e+00 -1.65406066e+01  3.68131937e+00\n",
      "   0.00000000e+00  0.00000000e+00 -1.57201216e+01 -1.55065217e+01\n",
      "  -1.52739303e+01 -1.52643828e+01 -1.50976402e+01 -1.48623027e+01\n",
      "  -1.47382795e+01 -1.44240628e+01 -1.43038616e+01 -1.42052425e+01\n",
      "  -1.39066991e+01 -1.38893386e+01 -1.37285735e+01 -1.36742171e+01\n",
      "   0.00000000e+00  0.00000000e+00  0.00000000e+00 -1.29325959e+01\n",
      "  -1.30640246e+01  0.00000000e+00]\n",
      " [-1.90027925e+00 -9.47662366e-01  5.50922461e-02  1.11062342e+00\n",
      "   2.22170886e+00  3.39127248e+00  4.62239209e+00  5.91830746e+00\n",
      "  -3.00000000e+02 -2.99999970e+02 -1.57324488e+01  0.00000000e+00\n",
      "  -1.50600919e+01 -1.49986961e+01 -1.51197634e+01 -1.48611159e+01\n",
      "  -1.44341274e+01 -1.45773260e+01 -1.41629480e+01 -1.43113895e+01\n",
      "  -1.37639619e+01 -1.39644504e+01 -1.37209531e+01 -1.33717617e+01\n",
      "  -2.99700000e+02 -2.99700000e+02 -2.70000000e+02 -1.29203754e+01\n",
      "  -1.27429536e+01 -2.99700000e+02]\n",
      " [-9.47662366e-01 -4.89449078e+01  1.11062342e+00  2.22170886e+00\n",
      "   3.39127248e+00  4.62239209e+00  5.91830746e+00  7.28242891e+00\n",
      "   8.71834622e+00  9.96771076e+00 -1.58711428e+01 -2.99999970e+02\n",
      "  -1.52406263e+01 -1.50485124e+01  0.00000000e+00 -1.48561662e+01\n",
      "  -1.45139837e+01 -1.43967003e+01 -1.41559846e+01 -1.40343675e+01\n",
      "  -1.37940775e+01 -1.37520148e+01 -1.36567324e+01 -1.36334739e+01\n",
      "  -1.31344877e+01 -1.30327310e+01 -1.25504227e+01 -1.27780124e+01\n",
      "  -1.30337167e+01 -1.30259659e+01]\n",
      " [ 5.50922461e-02  1.11062342e+00  2.22170886e+00  3.39127248e+00\n",
      "   0.00000000e+00  5.91830746e+00  7.28242891e+00  8.71834622e+00\n",
      "   1.02298381e+01  1.18208822e+01 -1.54973302e+01 -1.53116172e+01\n",
      "   0.00000000e+00 -1.51184329e+01 -2.99970000e+02 -1.46241861e+01\n",
      "   0.00000000e+00 -1.41228066e+01  0.00000000e+00 -1.36449979e+01\n",
      "  -1.35749562e+01 -1.35673421e+01 -1.34238832e+01 -1.32897612e+01\n",
      "   0.00000000e+00 -1.28681576e+01 -1.27142106e+01 -1.27563179e+01\n",
      "  -1.28446762e+01  0.00000000e+00]\n",
      " [ 1.11062342e+00  0.00000000e+00  0.00000000e+00  4.62239209e+00\n",
      "  -3.00000000e+02  7.28242891e+00  8.71834622e+00  1.02298381e+01\n",
      "   1.18208822e+01  1.34956655e+01  1.52585953e+01  1.71143108e+01\n",
      "  -2.99970000e+02 -1.48409463e+01 -1.48802415e+01 -1.44844636e+01\n",
      "  -2.99970000e+02 -1.39929375e+01 -2.99970000e+02 -1.36575740e+01\n",
      "  -1.36894439e+01 -1.34080617e+01 -1.30895168e+01 -1.32667188e+01\n",
      "  -2.99700000e+02 -1.27943082e+01 -1.28736958e+01 -1.26338994e+01\n",
      "  -1.24181831e+01 -2.99970000e+02]\n",
      " [ 2.22170886e+00 -3.00000000e+02 -3.00000000e+02  5.91830746e+00\n",
      "   0.00000000e+00  8.71834622e+00  1.02298381e+01  1.18208822e+01\n",
      "   1.34956655e+01  1.52585953e+01  1.71143108e+01  1.90676956e+01\n",
      "   2.11238894e+01  2.32881627e+01 -1.43731870e+01 -1.43036423e+01\n",
      "  -1.41070083e+01 -1.39960183e+01 -1.37767011e+01 -1.38726279e+01\n",
      "  -1.37236690e+01 -1.31345554e+01 -1.29311046e+01 -1.32247149e+01\n",
      "  -1.31659060e+01 -1.27411951e+01 -1.25561771e+01 -1.27976821e+01\n",
      "  -1.22862596e+01 -1.26026518e+01]\n",
      " [ 3.39127248e+00  4.62239209e+00  5.91830746e+00  7.28242891e+00\n",
      "  -3.00000000e+02  0.00000000e+00  0.00000000e+00  1.34956655e+01\n",
      "   1.52585953e+01  0.00000000e+00  1.90676956e+01  2.11238901e+01\n",
      "   1.94865389e+01  2.55666372e+01  2.75244055e+01  2.56214899e+01\n",
      "   3.31248511e+01 -1.40434789e+01 -1.38594111e+01 -1.36589208e+01\n",
      "  -1.34569327e+01 -1.31240362e+01 -1.30897081e+01 -1.26864997e+01\n",
      "  -1.31351466e+01 -1.26524979e+01 -1.28306257e+01 -1.25271751e+01\n",
      "  -1.24216816e+01 -1.25809688e+01]\n",
      " [ 4.62239209e+00  5.91830746e+00  7.28242891e+00  8.71834622e+00\n",
      "   1.02298381e+01 -3.00000000e+02 -3.00000000e+02  1.52585953e+01\n",
      "   1.71143108e+01  0.00000000e+00  2.11238901e+01  2.32883054e+01\n",
      "   2.55666372e+01  2.79648813e+01  3.04893487e+01  3.31466829e+01\n",
      "   3.59438767e+01  0.00000000e+00 -1.38245686e+01  0.00000000e+00\n",
      "  -1.30510784e+01 -1.28895490e+01 -1.30057894e+01 -1.27698680e+01\n",
      "  -1.26762351e+01 -1.23920459e+01 -1.24763957e+01 -1.23176792e+01\n",
      "   0.00000000e+00 -1.20278788e+01]\n",
      " [ 5.91830746e+00  7.28242891e+00  8.71834622e+00  1.02298381e+01\n",
      "   1.18208822e+01  1.34956655e+01  1.52585953e+01  1.71143108e+01\n",
      "   1.90676956e+01  0.00000000e+00  2.32883054e+01  2.55666372e+01\n",
      "   2.79648809e+01  3.04893487e+01 -1.41772352e+01 -1.40436280e+01\n",
      "   3.88882913e+01 -2.99700000e+02 -1.29373329e+01 -2.97000000e+02\n",
      "  -1.29856084e+01 -1.29180810e+01 -1.29296926e+01 -1.28874502e+01\n",
      "  -1.28287743e+01 -1.24975457e+01 -1.23154426e+01 -1.20461832e+01\n",
      "  -2.99700000e+02 -1.18138090e+01]\n",
      " [ 7.28242891e+00  8.71834622e+00  0.00000000e+00  1.18208822e+01\n",
      "   0.00000000e+00  1.52585953e+01  1.71143108e+01  1.90676956e+01\n",
      "   2.11238901e+01 -3.00000000e+02  2.55666372e+01  2.79648813e+01\n",
      "   3.04893487e+01  3.31466829e+01  3.59438767e+01  3.88882912e+01\n",
      "   4.19876750e+01  4.52443272e+01 -1.31311078e+01 -1.29706749e+01\n",
      "  -1.23408317e+01 -1.29142772e+01 -1.23363675e+01 -1.23259274e+01\n",
      "   0.00000000e+00 -1.21392578e+01  0.00000000e+00 -1.17091607e+01\n",
      "  -1.12888549e+01 -1.21230730e+01]\n",
      " [ 8.71834622e+00  1.02298381e+01 -3.00000000e+02  1.34956655e+01\n",
      "  -3.00000000e+02  1.71143108e+01  1.90676956e+01  2.11238901e+01\n",
      "   0.00000000e+00  2.55666372e+01  2.79648813e+01  3.04893487e+01\n",
      "   3.31466829e+01  3.59438767e+01  3.83644226e+01  0.00000000e+00\n",
      "   4.52501842e+01  4.80679334e+01 -1.24909897e+01 -1.25107299e+01\n",
      "  -1.23475857e+01 -1.23010861e+01 -1.17506448e+01 -1.19918527e+01\n",
      "  -2.70000000e+02 -1.16773085e+01 -2.97000000e+02  0.00000000e+00\n",
      "   5.77047450e+01 -1.13414220e+01]\n",
      " [ 1.02298381e+01  0.00000000e+00  1.34956655e+01  1.52585953e+01\n",
      "   1.71143108e+01  1.90676956e+01  2.11238901e+01  2.32883054e+01\n",
      "  -3.00000000e+02  2.79648813e+01  0.00000000e+00  3.31466829e+01\n",
      "   0.00000000e+00  3.88882913e+01  4.19876750e+01 -3.00000000e+02\n",
      "   4.86844045e+01  5.22993731e+01 -1.24176715e+01  5.29111117e+01\n",
      "   0.00000000e+00 -1.18242720e+01 -1.20756138e+01 -1.19338980e+01\n",
      "   0.00000000e+00  0.00000000e+00 -1.05717182e+01 -2.99997000e+02\n",
      "  -1.11203950e+01 -1.09431917e+01]\n",
      " [ 0.00000000e+00  0.00000000e+00  1.52585953e+01  1.71143108e+01\n",
      "   1.90676956e+01  2.11238901e+01  2.32883054e+01  2.55666372e+01\n",
      "   2.79648813e+01  3.04893487e+01 -2.99999970e+02  3.59438767e+01\n",
      "  -3.00000000e+02  4.19876750e+01  4.52501842e+01  4.86844045e+01\n",
      "   5.22993731e+01  5.61046033e+01  5.93906376e+01  6.35666603e+01\n",
      "  -2.99999700e+02 -1.12116873e+01 -1.14050214e+01 -1.15310463e+01\n",
      "  -2.99700000e+02 -2.70000000e+02 -1.05804001e+01 -1.00088572e+01\n",
      "  -9.94511555e+00 -1.03922983e+01]\n",
      " [-2.99999970e+02 -2.99997000e+02  1.71143108e+01  1.90676956e+01\n",
      "   2.11238901e+01  2.32883054e+01  2.55666372e+01  2.79648813e+01\n",
      "   3.04893487e+01  3.31466829e+01  3.59438767e+01  0.00000000e+00\n",
      "   0.00000000e+00  4.52501842e+01  4.86844045e+01  5.22993731e+01\n",
      "   5.61046033e+01  6.01101087e+01  6.43249948e+01  6.87638061e+01\n",
      "  -1.08600843e+01  5.39715466e+01 -1.07284468e+01  0.00000000e+00\n",
      "   8.27098020e+01 -9.59083168e+00  0.00000000e+00 -1.00320233e+01\n",
      "  -1.01778969e+01 -1.00351376e+01]\n",
      " [-1.54713140e+01  0.00000000e+00  1.90676956e+01  2.11238901e+01\n",
      "   2.32883054e+01  2.55666372e+01  0.00000000e+00  3.04893487e+01\n",
      "   3.31466829e+01  3.59438767e+01  3.88882913e+01 -3.00000000e+02\n",
      "  -3.00000000e+02  4.86844045e+01  5.22993731e+01  5.61046033e+01\n",
      "   6.01101087e+01  6.43264302e+01  6.87646634e+01  7.34364878e+01\n",
      "   7.83541977e+01  7.34255499e+01 -1.09945499e+01 -2.99700000e+02\n",
      "  -9.61445111e+00 -9.07703456e+00 -2.99700000e+02  8.42937013e+01\n",
      "  -9.98599226e+00 -9.82720439e+00]\n",
      " [-1.50325720e+01 -2.99997000e+02  2.11238901e+01  2.32883054e+01\n",
      "   2.55666372e+01  2.79648813e+01 -3.00000000e+02  3.31466829e+01\n",
      "   3.59438767e+01  3.88882913e+01  4.19876750e+01  4.52501842e+01\n",
      "   0.00000000e+00  5.22993731e+01  5.61046033e+01  6.01101087e+01\n",
      "   6.43264302e+01  6.87646634e+01  7.34364878e+01  7.83541977e+01\n",
      "   8.35307344e+01  8.89697823e+01  0.00000000e+00 -9.14047210e+00\n",
      "  -9.54254514e+00 -9.02692546e+00 -8.50203987e+00 -8.45549160e+00\n",
      "  -9.49149903e+00 -8.95523137e+00]\n",
      " [ 1.90637152e+01  2.11238901e+01  2.32883054e+01  2.55666372e+01\n",
      "   2.79648813e+01  3.04893487e+01  3.31466828e+01  3.59438767e+01\n",
      "   0.00000000e+00  4.19876750e+01  4.46139944e+01  0.00000000e+00\n",
      "  -2.99999970e+02  5.61046033e+01  6.01101087e+01  4.92702885e+01\n",
      "   6.87646634e+01  7.34364878e+01  7.83541977e+01  0.00000000e+00\n",
      "   8.89797204e+01  9.47154952e+01  0.00000000e+00  8.34136666e+01\n",
      "   1.01563731e+02 -8.39366494e+00 -8.49627119e+00 -8.55338472e+00\n",
      "  -9.03360473e+00 -8.48825045e+00]\n",
      " [-1.49154941e+01  2.32883054e+01  0.00000000e+00  2.79648813e+01\n",
      "   3.04893487e+01  3.31466829e+01  3.59438767e+01  3.88882913e+01\n",
      "  -3.00000000e+02  4.52501842e+01  4.86843983e+01 -2.99700000e+02\n",
      "   5.61045963e+01  6.01101087e+01  6.43264302e+01  6.87646634e+01\n",
      "   7.34364878e+01  7.83541977e+01  0.00000000e+00 -2.97000000e+02\n",
      "   9.47154952e+01  1.00753153e+02 -2.99997000e+02  1.13780961e+02\n",
      "   1.20827648e+02  1.28253058e+02  1.20834948e+02 -7.89358396e+00\n",
      "   0.00000000e+00 -8.84589832e+00]\n",
      " [ 2.22496210e+01  2.55666372e+01 -3.00000000e+02  3.04893487e+01\n",
      "   3.31466829e+01  3.59438767e+01  3.88877603e+01  4.19876750e+01\n",
      "   4.52501842e+01  4.86844045e+01  5.22993731e+01  4.91833671e+01\n",
      "   6.01093795e+01  6.43264302e+01  6.87646634e+01  7.34279628e+01\n",
      "   0.00000000e+00  8.35307344e+01 -3.00000000e+02  9.47154952e+01\n",
      "   1.00753153e+02  1.07108582e+02  1.13798507e+02  1.20827574e+02\n",
      "   0.00000000e+00  1.34625632e+02  0.00000000e+00 -7.36222823e+00\n",
      "  -2.70000000e+02 -7.65600963e+00]\n",
      " [-1.47289844e+01  2.79648813e+01  3.04893487e+01  3.31466829e+01\n",
      "   3.59438767e+01  3.88882913e+01  4.19876750e+01  4.52501842e+01\n",
      "   4.86844045e+01  5.22993731e+01  5.61046033e+01  6.01093812e+01\n",
      "   0.00000000e+00  0.00000000e+00  7.34364878e+01  7.83541976e+01\n",
      "  -2.99999700e+02  0.00000000e+00  8.42306028e+01 -9.47326678e+00\n",
      "   1.07108582e+02  0.00000000e+00  1.20840534e+02  1.28253193e+02\n",
      "  -3.00000000e+02  1.44254402e+02 -2.97000000e+02 -7.33068030e+00\n",
      "  -6.98418160e+00 -7.42793614e+00]\n",
      " [-1.45829353e+01  3.04893487e+01  3.31466829e+01  3.59438767e+01\n",
      "   3.88882913e+01  4.19876750e+01  4.52501842e+01  4.86844045e+01\n",
      "   5.22993731e+01  5.61046033e+01  6.01101087e+01  6.43264302e+01\n",
      "  -3.00000000e+02 -3.00000000e+02  7.83541977e+01  0.00000000e+00\n",
      "   8.89687600e+01  0.00000000e+00 -9.56928583e+00 -9.59156228e+00\n",
      "  -8.95189118e+00 -2.99997000e+02  1.28253194e+02  1.35912230e+02\n",
      "   1.44269467e+02  1.52915069e+02  1.62016008e+02  1.37689593e+02\n",
      "  -6.44376635e+00 -6.46169435e+00]\n",
      " [-1.42445314e+01  0.00000000e+00  3.59438767e+01  3.88882913e+01\n",
      "   4.19876750e+01  4.52501842e+01  4.86844045e+01  5.22993731e+01\n",
      "   5.61046033e+01  6.01101087e+01  6.43264302e+01  6.87646634e+01\n",
      "   7.34364878e+01  0.00000000e+00  8.35307344e+01 -3.00000000e+02\n",
      "   9.47154952e+01 -3.00000000e+02  9.11217870e+01  1.01373309e+02\n",
      "   0.00000000e+00  0.00000000e+00  1.36055993e+02  1.44269467e+02\n",
      "   1.52915228e+02  1.62016030e+02  1.71595820e+02  1.62924317e+02\n",
      "   0.00000000e+00 -5.45283926e+00]\n",
      " [-1.43798719e+01 -2.99999700e+02  3.88882913e+01  4.19876750e+01\n",
      "   0.00000000e+00  4.86844045e+01  5.22993731e+01  5.61046033e+01\n",
      "   6.01101087e+01  6.43264302e+01  6.87646634e+01  7.34364878e+01\n",
      "   7.83541977e+01 -2.97000000e+02  0.00000000e+00  9.47154952e+01\n",
      "   1.00753153e+02  1.07108582e+02  1.13798507e+02  1.20840534e+02\n",
      "  -3.00000000e+02 -3.00000000e+02  1.44269467e+02  0.00000000e+00\n",
      "   1.62016030e+02  1.71595821e+02  1.81661162e+02  1.92294534e+02\n",
      "  -2.70000000e+02 -5.46029238e+00]\n",
      " [-1.40958183e+01 -1.42711966e+01  4.19876750e+01  4.52501842e+01\n",
      "  -3.00000000e+02  5.22993731e+01  5.61046033e+01  6.01101087e+01\n",
      "   6.43264302e+01  6.87646634e+01  0.00000000e+00  7.83541977e+01\n",
      "   8.35307344e+01  7.89187823e+01  0.00000000e+00  1.00753153e+02\n",
      "   1.07108582e+02  1.13798507e+02  0.00000000e+00  0.00000000e+00\n",
      "   1.36055993e+02  1.44269467e+02  1.52915228e+02 -3.00000000e+02\n",
      "   1.71595821e+02  1.81679811e+02  1.90335250e+02  2.03467935e+02\n",
      "  -4.83335441e+00  2.00297869e+02]\n",
      " [-1.41057303e+01  4.14252049e+01  0.00000000e+00  4.86844045e+01\n",
      "   5.22993731e+01  5.61046033e+01  6.01101087e+01  6.43264302e+01\n",
      "   6.87646634e+01  7.34364878e+01 -2.99999700e+02  8.35307344e+01\n",
      "   8.89797204e+01  8.41190588e+01 -3.00000000e+02  1.07108582e+02\n",
      "   0.00000000e+00  1.20840534e+02  0.00000000e+00 -2.70000000e+02\n",
      "   1.44269467e+02  1.52915228e+02  1.62016030e+02  1.71595821e+02\n",
      "   1.81679811e+02  1.92294538e+02  2.03467935e+02  2.15229405e+02\n",
      "   0.00000000e+00 -3.36085521e+00]\n",
      " [-1.40157850e+01  0.00000000e+00 -2.70000000e+02  5.22993731e+01\n",
      "   0.00000000e+00  6.01101087e+01  6.43264302e+01  6.87646634e+01\n",
      "   7.34364878e+01  7.83541977e+01  8.35307344e+01  8.89797204e+01\n",
      "   9.47154952e+01  0.00000000e+00  1.07108582e+02  1.13798507e+02\n",
      "  -3.00000000e+02  1.28253194e+02 -3.00000000e+02  1.28245695e+02\n",
      "   1.34621619e+02  1.62014255e+02  1.71595821e+02  1.81679811e+02\n",
      "   1.92294538e+02  2.03467935e+02  2.15229405e+02  2.27609900e+02\n",
      "  -2.99997000e+02 -3.28212574e+00]\n",
      " [-1.42147217e+01 -2.99700000e+02  3.93322808e+01  4.86837791e+01\n",
      "  -3.00000000e+02  6.43264302e+01  0.00000000e+00  7.34364878e+01\n",
      "   7.83541977e+01  8.35307344e+01  8.89797204e+01  9.47154952e+01\n",
      "   1.00753153e+02 -3.00000000e+02  1.13798507e+02  1.20840534e+02\n",
      "   1.28253194e+02  1.36055993e+02  1.44269467e+02  1.52915228e+02\n",
      "   0.00000000e+00  1.71595821e+02  1.81679811e+02  1.92294538e+02\n",
      "   2.03467935e+02  0.00000000e+00  2.27609900e+02  2.40642000e+02\n",
      "   2.54360000e+02  2.16393085e+02]\n",
      " [-1.41661678e+01 -1.42480900e+01 -1.39011713e+01 -1.40463606e+01\n",
      "   5.61046033e+01  6.01101087e+01 -2.99700000e+02  0.00000000e+00\n",
      "   8.35307344e+01  8.89797204e+01  0.00000000e+00  1.00753153e+02\n",
      "   1.07108582e+02  1.13798507e+02  0.00000000e+00  1.28253194e+02\n",
      "   0.00000000e+00  1.44269467e+02  1.52915228e+02  1.62016030e+02\n",
      "  -3.00000000e+02  1.81679811e+02  1.92294538e+02  2.03467935e+02\n",
      "   2.15229405e+02 -3.00000000e+02  2.40642000e+02  2.54360000e+02\n",
      "   2.68800000e+02  0.00000000e+00]\n",
      " [-1.38894832e+01  0.00000000e+00 -1.39548963e+01 -1.39060680e+01\n",
      "   5.00194971e+01 -1.36271838e+01  0.00000000e+00 -2.99700000e+02\n",
      "  -1.25005463e+01  8.25742545e+01 -2.97000000e+02  8.40785962e+01\n",
      "   1.00753153e+02  1.07108582e+02  0.00000000e+00  1.20840534e+02\n",
      "  -3.00000000e+02  1.52915228e+02  1.62016030e+02  1.71595821e+02\n",
      "   1.81679811e+02  1.92294538e+02  2.03467935e+02  2.15229405e+02\n",
      "   0.00000000e+00  2.40642000e+02  2.54360000e+02  2.68800000e+02\n",
      "   0.00000000e+00  0.00000000e+00]\n",
      " [-1.41308148e+01 -2.99970000e+02 -1.37074764e+01 -1.38687450e+01\n",
      "   0.00000000e+00 -1.35668557e+01  0.00000000e+00 -1.21450382e+01\n",
      "  -1.25021916e+01  7.82637668e+01  8.35211793e+01  8.89696412e+01\n",
      "  -1.16857594e+01  1.00753148e+02  0.00000000e+00  1.14560932e+02\n",
      "   1.36055993e+02  1.44269467e+02  1.52915228e+02  0.00000000e+00\n",
      "   1.71595821e+02  1.81679811e+02  1.92294538e+02  2.03467935e+02\n",
      "  -3.00000000e+02  2.54360000e+02  2.68800000e+02  2.84000000e+02\n",
      "   3.00000000e+02 -2.70000000e+02]]\n"
     ]
    }
   ],
   "source": [
    "print(e.qtable[:,:,0])"
   ]
  },
  {
   "cell_type": "code",
   "execution_count": 47,
   "id": "ffda273c",
   "metadata": {},
   "outputs": [
    {
     "name": "stdout",
     "output_type": "stream",
     "text": [
      "0  -  0\n",
      "(29, 28)\n",
      "7.084750767019329\n",
      "\n",
      "0  -  1\n",
      "(27, 28)\n",
      "17.29424641160535\n",
      "\n",
      "1  -  0\n",
      "(29, 29)\n",
      "6.5869446544097325\n",
      "\n",
      "1  -  1\n",
      "(28, 27)\n",
      "11.448567295433076\n",
      "\n"
     ]
    },
    {
     "data": {
      "image/png": "[encoded data removed]",
      "text/plain": [
       "<Figure size 1152x864 with 8 Axes>"
      ]
     },
     "metadata": {
      "needs_background": "light"
     },
     "output_type": "display_data"
    }
   ],
   "source": [
    "import seaborn\n",
    "fig, ax = plt.subplots(2,2, figsize=(16,12))\n",
    "for i, action in enumerate(e.actions):\n",
    "    # Plot\n",
    "    plot_row = int(i / 2)\n",
    "    plot_col = int(i % 2)\n",
    "    print(plot_row, \" - \",plot_col)\n",
    "    action_states_matrix = e.qtable[:,:,i]\n",
    "    highest_value_index = np.unravel_index(np.argmax(action_states_matrix, axis=None), action_states_matrix.shape)\n",
    "    print(highest_value_index)\n",
    "    print(np.mean(action_states_matrix))\n",
    "    seaborn.heatmap(e.qtable[:,:,i], ax=ax[plot_row][plot_col],)\n",
    "    ax[plot_row][plot_col].set_title(f\"Action {action}\")\n",
    "    print(\"\")\n",
    "plt.show()"
   ]
  },
  {
   "cell_type": "code",
   "execution_count": null,
   "id": "b892f118",
   "metadata": {},
   "outputs": [],
   "source": []
  }
 ],
 "metadata": {
  "kernelspec": {
   "display_name": "Python 3",
   "language": "python",
   "name": "python3"
  },
  "language_info": {
   "codemirror_mode": {
    "name": "ipython",
    "version": 3
   },
   "file_extension": ".py",
   "mimetype": "text/x-python",
   "name": "python",
   "nbconvert_exporter": "python",
   "pygments_lexer": "ipython3",
   "version": "3.8.8"
  }
 },
 "nbformat": 4,
 "nbformat_minor": 5
}
