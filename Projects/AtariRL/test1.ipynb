{
 "cells": [
  {
   "cell_type": "code",
   "execution_count": 156,
   "id": "862f27d0",
   "metadata": {},
   "outputs": [],
   "source": [
    "import numpy as np\n",
    "from matplotlib import pyplot as plt\n",
    "from dataclasses import dataclass"
   ]
  },
  {
   "cell_type": "code",
   "execution_count": 157,
   "id": "9556fbe8",
   "metadata": {},
   "outputs": [],
   "source": [
    "# Environment\n",
    "\n",
    "@dataclass\n",
    "class QSettings():\n",
    "    epsilon: float\n",
    "    discount: float\n",
    "    learning_rate: float\n",
    "        \n",
    "\n",
    "class Environment():\n",
    "    def __init__(self, nrows: int, ncols: int, starting_location: tuple, end_location: tuple, nobstacles: int, qsettings: QSettings):\n",
    "        self.nrows = nrows\n",
    "        self.ncols = ncols\n",
    "        self.mapsize = (nrows, ncols)\n",
    "        self.starting_location = starting_location\n",
    "        self.default_location = self.starting_location\n",
    "        self.startingrow, self.startingcol = self.starting_location\n",
    "        self.end_location = end_location\n",
    "        self.endrow, self.endcol = self.end_location\n",
    "        self.nobstacles = nobstacles\n",
    "        self.qsettings = qsettings\n",
    "        self.actions = ['up', 'down', 'left', 'right']\n",
    "        \n",
    "        self.currentrow, self.currentcol = self.starting_location\n",
    "        \n",
    "        self.obstacles = []\n",
    "        self.rewards = np.full((self.nrows, self.ncols), -1.)\n",
    "        self.qtable = np.zeros((self.nrows, self.ncols, len(self.actions))) # nrows x ncols x nactions\n",
    "        \n",
    "        self.basereward = -1\n",
    "        self.enemyreward = -300\n",
    "        self.endreward = 300\n",
    "        \n",
    "        self.__build_obstacles__()\n",
    "        self.__build_rewards__()\n",
    "        \n",
    "        self.initialized = True\n",
    "        self.trained = False\n",
    "        self.ran = False\n",
    "        \n",
    "    def __build_obstacles__(self):\n",
    "        if len(self.obstacles) <= 0:\n",
    "            while len(self.obstacles) < self.nobstacles:\n",
    "                randrow = np.random.randint(self.nrows)\n",
    "                randcol = np.random.randint(self.ncols)\n",
    "                if (randrow, randcol) not in self.obstacles:\n",
    "                    if (randrow,randcol) != self.starting_location and (randrow,randcol) != self.end_location:\n",
    "                        self.obstacles.append((randrow, randcol))\n",
    "                        \n",
    "    def __build_rewards__(self):\n",
    "        for obstacle in self.obstacles:\n",
    "            ob_row, ob_col = obstacle\n",
    "            self.rewards[ob_row][ob_col] = self.enemyreward\n",
    "        self.rewards[self.end_location[0]][self.end_location[1]] = self.endreward\n",
    "    \n",
    "    \n",
    "    def is_enemy(self, row, col):\n",
    "        return self.rewards[row][col] == self.enemyreward\n",
    "    def is_end(self, row, col):\n",
    "        return self.rewards[row][col] == self.endreward\n",
    "    \n",
    "    def get_next_action(self, current_row_index, current_column_index):\n",
    "        \"\"\"Next action is decided based on the epsilon-greedy algorithm.\n",
    "        If a random number is smaller than a value epsilon, the max value from the queue table is selected.\n",
    "        Otherwise, if the random number is larger, pick a random action\n",
    "        \"\"\"\n",
    "        if np.random.random() < self.qsettings.epsilon:\n",
    "            return np.argmax(self.qtable[current_row_index, current_column_index])\n",
    "        else: #choose a random action\n",
    "            return np.random.randint(len(self.actions))\n",
    "        \n",
    "    def get_next_location(self,current_row_index, current_column_index, action_index: int):\n",
    "        new_row_index = current_row_index\n",
    "        new_column_index = current_column_index\n",
    "        if self.actions[action_index] == 'up' and current_row_index > 0:\n",
    "            new_row_index -= 1\n",
    "        elif self.actions[action_index] == 'right' and current_column_index < self.ncols - 1:\n",
    "            new_column_index += 1\n",
    "        elif self.actions[action_index] == 'down' and current_row_index < self.nrows - 1:\n",
    "            new_row_index += 1\n",
    "        elif self.actions[action_index] == 'left' and current_column_index > 0:\n",
    "            new_column_index -= 1\n",
    "        return new_row_index, new_column_index\n",
    "    \n",
    "    def showmap(self):\n",
    "        print(len(self.obstacles))\n",
    "        if len(self.obstacles) > 0:\n",
    "            fig, ax = plt.subplots(figsize=(9,9))\n",
    "            ax.set_title(\"Reward map\")\n",
    "            ax.set_xlabel(\"col\")\n",
    "            ax.set_ylabel(\"row\")\n",
    "            rewardmap = self.rewards\n",
    "            rewardmap[self.startingrow][self.startingcol] = -50\n",
    "            ax.imshow(rewardmap)\n",
    "            plt.show()\n",
    "    \n",
    "    def showpath(self, path: list):\n",
    "        if self.run and len(path) > 0:\n",
    "            plt.clf()\n",
    "            newmap = self.rewards\n",
    "            newmap[path[0][0]][path[0][1]] = -50\n",
    "            print(\"===> \",path)\n",
    "            for pos in path:\n",
    "                r, c = pos\n",
    "                newmap[r][c] = 100\n",
    "            fig2, ax2 = plt.subplots(figsize=(9,9))\n",
    "            ax2.set_title(\"Reward map\")\n",
    "            ax2.set_xlabel(\"col\")\n",
    "            ax2.set_ylabel(\"row\")\n",
    "            ax2.imshow(newmap)\n",
    "        plt.show()\n",
    "    \n",
    "    def reset(self):\n",
    "        self.currentrow = self.startingrow\n",
    "        self.currentcol = self.startingcol\n",
    "            \n",
    "    def train(self, epochs: int, verbose: bool = False):\n",
    "        for epoch in range(epochs):\n",
    "            self.reset()\n",
    "            row, col = self.starting_location\n",
    "            while (not self.is_end(self.currentrow, self.currentcol)) and (not self.is_enemy(self.currentrow, self.currentcol)):\n",
    "                actionindex = self.get_next_action(self.currentrow, self.currentcol)\n",
    "                oldrow, oldcol = self.currentrow, self.currentcol\n",
    "                self.currentrow, self.currentcol = self.get_next_location(self.currentrow, self.currentcol, actionindex)\n",
    "                \n",
    "                reward = self.rewards[self.currentrow][self.currentcol]\n",
    "                old_q = self.qtable[oldrow, oldcol, actionindex]\n",
    "                temporaldiff = reward + (self.qsettings.discount * np.max(self.qtable[self.currentrow, self.currentcol])) - old_q\n",
    "                new_q = old_q + (self.qsettings.learning_rate * temporaldiff)\n",
    "                self.qtable[oldrow, oldcol, actionindex] = new_q\n",
    "        self.trained = True\n",
    "        print(\"Training complete\")\n",
    "        \n",
    "    \n",
    "    def run(self, maxiterations: int = 10000, startpos: tuple = None, verbose: bool = False):\n",
    "        if startpos is not None:\n",
    "            self.starting_location = startpos\n",
    "            self.startingrow = startpos[0]\n",
    "            self.startingcol = startpos[1]\n",
    "        if self.is_enemy(self.startingrow, self.startingcol) or self.is_end(self.startingrow, self.startingcol):\n",
    "            return []\n",
    "        else:\n",
    "            self.reset()\n",
    "            shortestpath = []\n",
    "            shortestpath.append(self.starting_location)\n",
    "            #i: int = 0\n",
    "            print(\"==> \",self.currentrow, self.currentcol)\n",
    "            while (not self.is_end(self.currentrow, self.currentcol)) and (not self.is_enemy(self.currentrow, self.currentcol)):\n",
    "                actionindex = self.get_next_action(self.currentrow, self.currentcol)\n",
    "                self.currentrow, self.currentcol = self.get_next_location(self.currentrow, self.currentcol, actionindex)\n",
    "                shortestpath.append((self.currentrow, self.currentcol))\n",
    "                #i+=1\n",
    "                #if (i >= maxiterations):\n",
    "                #    print(f\"Reached maximum iterations {maxiterations}. Current position: ({self.currentrow},{self.currentcol})\")\n",
    "                #    return []\n",
    "            self.ran = True\n",
    "            return shortestpath\n",
    "    \n",
    "    \n",
    "    \n",
    "            \n",
    "        "
   ]
  },
  {
   "cell_type": "code",
   "execution_count": 158,
   "id": "f6855dd7",
   "metadata": {},
   "outputs": [],
   "source": [
    "e = Environment(\n",
    "    30,30,\n",
    "    (1,1),\n",
    "    (28,28),\n",
    "    100,\n",
    "    QSettings(epsilon=0.9, discount=0.95, learning_rate=0.9)\n",
    ")"
   ]
  },
  {
   "cell_type": "code",
   "execution_count": 159,
   "id": "19552e06",
   "metadata": {},
   "outputs": [
    {
     "name": "stdout",
     "output_type": "stream",
     "text": [
      "100\n"
     ]
    },
    {
     "data": {
      "image/png": "[encoded data removed]",
      "text/plain": [
       "<Figure size 648x648 with 1 Axes>"
      ]
     },
     "metadata": {
      "needs_background": "light"
     },
     "output_type": "display_data"
    }
   ],
   "source": [
    "e.showmap()"
   ]
  },
  {
   "cell_type": "code",
   "execution_count": 160,
   "id": "eb941ca2",
   "metadata": {},
   "outputs": [
    {
     "name": "stdout",
     "output_type": "stream",
     "text": [
      "Training complete\n"
     ]
    }
   ],
   "source": [
    "e.train(50000)"
   ]
  },
  {
   "cell_type": "code",
   "execution_count": 161,
   "id": "38a73e7c",
   "metadata": {},
   "outputs": [
    {
     "name": "stdout",
     "output_type": "stream",
     "text": [
      "==>  1 1\n"
     ]
    }
   ],
   "source": [
    "shortestpath = e.run()"
   ]
  },
  {
   "cell_type": "code",
   "execution_count": 162,
   "id": "5288f5f3",
   "metadata": {},
   "outputs": [
    {
     "name": "stdout",
     "output_type": "stream",
     "text": [
      "===>  [(1, 1), (1, 2), (2, 2), (3, 2), (4, 2), (3, 2), (4, 2), (5, 2), (6, 2), (7, 2), (8, 2), (9, 2), (8, 2), (9, 2), (9, 3), (10, 3), (11, 3), (12, 3), (13, 3), (14, 3), (15, 3), (16, 3), (17, 3), (18, 3), (19, 3), (20, 3), (21, 3), (22, 3), (21, 3), (22, 3), (23, 3), (24, 3), (25, 3), (26, 3), (26, 4), (26, 5), (26, 6), (27, 6), (27, 7), (27, 8), (27, 9), (27, 8), (27, 9), (27, 10), (26, 10), (26, 11), (26, 12), (25, 12), (26, 12), (26, 13), (26, 14), (26, 15), (26, 16), (26, 17), (26, 18), (26, 19), (26, 20), (26, 21), (26, 22), (26, 23), (27, 23), (27, 24), (27, 25), (28, 25), (29, 25), (28, 25), (28, 26), (28, 27), (28, 28)]\n"
     ]
    },
    {
     "data": {
      "text/plain": [
       "<Figure size 432x288 with 0 Axes>"
      ]
     },
     "metadata": {},
     "output_type": "display_data"
    },
    {
     "data": {
      "image/png": "[encoded data removed]",
      "text/plain": [
       "<Figure size 648x648 with 1 Axes>"
      ]
     },
     "metadata": {
      "needs_background": "light"
     },
     "output_type": "display_data"
    }
   ],
   "source": [
    "e.showpath(shortestpath)"
   ]
  },
  {
   "cell_type": "code",
   "execution_count": 163,
   "id": "fe9a5c3c",
   "metadata": {},
   "outputs": [
    {
     "name": "stdout",
     "output_type": "stream",
     "text": [
      "[(1, 1), (1, 2), (2, 2), (3, 2), (4, 2), (3, 2), (4, 2), (5, 2), (6, 2), (7, 2), (8, 2), (9, 2), (8, 2), (9, 2), (9, 3), (10, 3), (11, 3), (12, 3), (13, 3), (14, 3), (15, 3), (16, 3), (17, 3), (18, 3), (19, 3), (20, 3), (21, 3), (22, 3), (21, 3), (22, 3), (23, 3), (24, 3), (25, 3), (26, 3), (26, 4), (26, 5), (26, 6), (27, 6), (27, 7), (27, 8), (27, 9), (27, 8), (27, 9), (27, 10), (26, 10), (26, 11), (26, 12), (25, 12), (26, 12), (26, 13), (26, 14), (26, 15), (26, 16), (26, 17), (26, 18), (26, 19), (26, 20), (26, 21), (26, 22), (26, 23), (27, 23), (27, 24), (27, 25), (28, 25), (29, 25), (28, 25), (28, 26), (28, 27), (28, 28)]\n"
     ]
    }
   ],
   "source": [
    "print(shortestpath)"
   ]
  },
  {
   "cell_type": "code",
   "execution_count": 165,
   "id": "45c2c55c",
   "metadata": {},
   "outputs": [
    {
     "name": "stdout",
     "output_type": "stream",
     "text": [
      "==>  9 22\n"
     ]
    },
    {
     "name": "stderr",
     "output_type": "stream",
     "text": [
      "IOPub data rate exceeded.\n",
      "The notebook server will temporarily stop sending output\n",
      "to the client in order to avoid crashing it.\n",
      "To change this limit, set the config variable\n",
      "`--NotebookApp.iopub_data_rate_limit`.\n",
      "\n",
      "Current values:\n",
      "NotebookApp.iopub_data_rate_limit=1000000.0 (bytes/sec)\n",
      "NotebookApp.rate_limit_window=3.0 (secs)\n",
      "\n"
     ]
    },
    {
     "data": {
      "text/plain": [
       "<Figure size 432x288 with 0 Axes>"
      ]
     },
     "metadata": {},
     "output_type": "display_data"
    },
    {
     "data": {
      "image/png": "[encoded data removed]",
      "text/plain": [
       "<Figure size 648x648 with 1 Axes>"
      ]
     },
     "metadata": {
      "needs_background": "light"
     },
     "output_type": "display_data"
    }
   ],
   "source": [
    "r2 = e.run(startpos=(9,22))\n",
    "e.showpath(r2)"
   ]
  },
  {
   "cell_type": "code",
   "execution_count": null,
   "id": "8fede406",
   "metadata": {},
   "outputs": [],
   "source": []
  }
 ],
 "metadata": {
  "kernelspec": {
   "display_name": "Python 3",
   "language": "python",
   "name": "python3"
  },
  "language_info": {
   "codemirror_mode": {
    "name": "ipython",
    "version": 3
   },
   "file_extension": ".py",
   "mimetype": "text/x-python",
   "name": "python",
   "nbconvert_exporter": "python",
   "pygments_lexer": "ipython3",
   "version": "3.8.8"
  }
 },
 "nbformat": 4,
 "nbformat_minor": 5
}
