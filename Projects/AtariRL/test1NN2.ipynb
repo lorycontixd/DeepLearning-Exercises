{
 "cells": [
  {
   "cell_type": "markdown",
   "id": "cb80d45b",
   "metadata": {},
   "source": [
    "Goal is to kill as many enemies as possible, by staying alive.\n",
    "Termination condition is either death or timeout.\n"
   ]
  },
  {
   "cell_type": "code",
   "execution_count": 1,
   "id": "7410c9c1",
   "metadata": {},
   "outputs": [],
   "source": [
    "import random\n",
    "import numpy as np\n"
   ]
  },
  {
   "cell_type": "code",
   "execution_count": null,
   "id": "e64d15f0",
   "metadata": {},
   "outputs": [],
   "source": [
    "class Character:\n",
    "    def __init__(self, health: float, attdmg: float):\n",
    "        self.maxhealth = health\n",
    "        self.health = health\n",
    "        self.attdmg = attdmg\n",
    "        self.actions = np.array(['up', 'down', 'left', 'right'])\n",
    "    \n",
    "\n",
    "    \n",
    "class Environment:\n",
    "    def __init__(self, nrows: int, ncols: int, nenemies: int):\n",
    "        self.nrows = nrows\n",
    "        self.ncols = ncols\n",
    "        self.enemies = self._build_enemies(nenemies)\n",
    "        self.rewards = np.full((self.nrows, self.cols))\n",
    "    \n",
    "    def _build_enemies(self, nenemies: int):\n",
    "        for i in range(nenemies):\n",
    "            x = np.random.randint(0, nrows, size=self.nrows)\n",
    "            y = np.random.randint(0, ncols, size=self.ncols)\n",
    "            "
   ]
  }
 ],
 "metadata": {
  "kernelspec": {
   "display_name": "Python 3",
   "language": "python",
   "name": "python3"
  },
  "language_info": {
   "codemirror_mode": {
    "name": "ipython",
    "version": 3
   },
   "file_extension": ".py",
   "mimetype": "text/x-python",
   "name": "python",
   "nbconvert_exporter": "python",
   "pygments_lexer": "ipython3",
   "version": "3.9.4"
  }
 },
 "nbformat": 4,
 "nbformat_minor": 5
}
