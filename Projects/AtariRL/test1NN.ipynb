{
 "cells": [
  {
   "cell_type": "code",
   "execution_count": 1,
   "id": "862f27d0",
   "metadata": {},
   "outputs": [],
   "source": [
    "import random\n",
    "import time\n",
    "import numpy as np\n",
    "from matplotlib import pyplot as plt\n",
    "from dataclasses import dataclass\n",
    "from collections import deque\n",
    "from pprint import pprint\n",
    "from enum import Enum\n",
    "from typing import Union\n",
    "\n",
    "# IPython\n",
    "from IPython.display import clear_output\n",
    "\n",
    "#ML\n",
    "import tensorflow as tf\n",
    "from tensorflow.keras import layers, models, losses, optimizers"
   ]
  },
  {
   "cell_type": "code",
   "execution_count": 2,
   "id": "84c7a090",
   "metadata": {},
   "outputs": [],
   "source": [
    "class Math:\n",
    "    @staticmethod\n",
    "    def distance(x1, x2, y1, y2):\n",
    "        return np.sqrt( np.power( (x2-x1), 2.) + np.power( (y2-y1), 2.) )"
   ]
  },
  {
   "cell_type": "code",
   "execution_count": 3,
   "id": "e838c48b",
   "metadata": {},
   "outputs": [],
   "source": [
    "class ActionType(Enum):\n",
    "    MOVEMENT = 0\n",
    "    ACTION = 1\n",
    "\n",
    "@dataclass\n",
    "class Action:\n",
    "    type: ActionType\n",
    "    value: Union[int, str]"
   ]
  },
  {
   "cell_type": "code",
   "execution_count": 4,
   "id": "84af1772",
   "metadata": {},
   "outputs": [],
   "source": [
    "# Environment\n",
    "\n",
    "@dataclass\n",
    "class QSettings():\n",
    "    epsilon: float\n",
    "    epsilon_min = 0.01\n",
    "    epsilon_decay = 0.99\n",
    "    discount: float\n",
    "    learning_rate: float\n",
    "     \n",
    "    \n",
    "@dataclass\n",
    "class Timer:\n",
    "    start: float\n",
    "    end: float\n",
    "    timer: float\n",
    "        \n",
    "        \n",
    "class RunInfo:\n",
    "    def __init__(self, nepisodes, ntimes):\n",
    "        self.timerstart = None\n",
    "        self.timerend = None\n",
    "        self.timertime = None\n",
    "        \n",
    "        self.scores = {str(i):[] for i in range(nepisodes)}\n",
    "    \n",
    "    def start_timer(self):\n",
    "        self.timerstart = time.time()\n",
    "    \n",
    "    def end_timer(self):\n",
    "        if self.timerstart is not None:\n",
    "            self.timerend = time.time()\n",
    "            self.timertime = self.timerend - self.timerend\n",
    "    \n",
    "    def get_timer(self):\n",
    "        if self.timertime is not None:\n",
    "            return self.timerend - self.timerstart\n",
    "        else:\n",
    "            raise ValueError(\"No timer is saved\")\n",
    "    \n",
    "    def reset_timer(self):\n",
    "        self.timerstart = None\n",
    "        self.timerend = None\n",
    "        self.timertime = None\n",
    "    \n",
    "    def add_score(self, episode, time, score):\n",
    "        self.scores[str(episode)].append(score)"
   ]
  },
  {
   "cell_type": "code",
   "execution_count": 5,
   "id": "d22106bf",
   "metadata": {},
   "outputs": [],
   "source": [
    "class Character:\n",
    "    def __init__(self, x, y, health: float, attdmg: float):\n",
    "        self.x = x\n",
    "        self.y = y\n",
    "        self.startx = x\n",
    "        self.starty = y\n",
    "        self.health = health\n",
    "        self.attdmg = attdmg\n",
    "\n",
    "class Agent(Character):\n",
    "    def __init__(self, env, x, y, qsettings: QSettings):\n",
    "        super().__init__(x,y, 300, 20)\n",
    "        self.env = env\n",
    "        self.x, self.y = self._set_valid_start(self.x, self.y)\n",
    "        self.actions = ['up', 'down', 'left', 'right']\n",
    "        self.nstates = 2 # vertical movement (rows), horizontal movement (cols)\n",
    "        self.qsettings = qsettings\n",
    "        \n",
    "        self.memory = deque(maxlen=50000)\n",
    "        self.qtable = np.zeros((self.env.nrows, self.env.ncols, len(self.actions))) # nrows x ncols x nactions\n",
    "        \n",
    "        self.model = self.__build_model__()\n",
    "        self.target_model = self.__build_model__()\n",
    "        self.update_target_model()\n",
    "        \n",
    "    def _get_random_valid_pos(self):\n",
    "        x = -1\n",
    "        y = -1\n",
    "        while (self.env.is_end(x,y) or self.env.is_enemy(x,y)) or x == -1 or y == -1:\n",
    "            x = np.random.randint(0, self.env.nrows)\n",
    "            y = np.random.randint(0, self.env.ncols)\n",
    "        return x, y\n",
    "        \n",
    "    def _set_valid_start(self, x, y):\n",
    "        if self.env.is_end(x,y) or self.env.is_enemy(x,y):\n",
    "            return self._get_random_valid_pos()\n",
    "        else:\n",
    "            return x, y\n",
    "        \n",
    "    def _check_valid_start(self, x, y):\n",
    "        return not (self.env.is_end(x,y) or self.env.is_enemy(x,y))\n",
    "    \n",
    "    def __build_model__(self):\n",
    "        # Neural Net for Deep-Q learning Model\n",
    "        model = models.Sequential()\n",
    "        model.add(layers.Dense(50, input_dim=self.nstates, activation='relu'))\n",
    "        model.add(layers.Dense(50, activation='relu'))\n",
    "        model.add(layers.Dense(len(self.actions), activation='linear'))\n",
    "        model.compile(loss='mse', optimizer=optimizers.Adam(lr=self.qsettings.learning_rate))\n",
    "        return model\n",
    "    \n",
    "    def set_starting_pos(self, *args):\n",
    "        if len(args) == 1:\n",
    "            # (x,y) as tuple\n",
    "            self.startx, self.starty = args[0]\n",
    "            if not self._check_valid_start(args[0][0], args[0][1]):\n",
    "                raise ValueError(\"Agent starting position is invalid\")\n",
    "        elif len(args) == 2:\n",
    "            # x,y as split params\n",
    "            if not self._check_valid_start(args[0], args[1]):\n",
    "                raise ValueError(\"Agent starting position is invalid\")\n",
    "            self.startx = args[0]\n",
    "            self.starty = args[1]\n",
    "        else:\n",
    "            raise ValueError(\"[SetStartingPos] Invalid number of arguments passed\")\n",
    "    \n",
    "    def update_target_model(self):\n",
    "        # copy weights from model to target_model\n",
    "        self.target_model.set_weights(self.model.get_weights())\n",
    "        \n",
    "    def memorize(self, state, action, reward, next_state, done):\n",
    "        self.memory.append((state, action, reward, next_state, done))\n",
    "    \n",
    "    def get_next_action(self, state):\n",
    "        \"\"\"Next action is decided based on the epsilon-greedy algorithm.\n",
    "        If a random number is smaller than a value epsilon, the max value from the queue table is selected.\n",
    "        Otherwise, if the random number is larger, pick a random action\n",
    "        \"\"\"\n",
    "        if np.random.random() <= self.qsettings.epsilon:\n",
    "            return np.random.randint(len(self.actions))\n",
    "        else:\n",
    "            act_values = self.model.predict(state, verbose=0) # Main difference between vanilla q-learning and DQL\n",
    "            return np.argmax(act_values[0])\n",
    "            \n",
    "    \n",
    "    def get_next_location(self,current_row_index, current_column_index, action_index: int):\n",
    "        new_row_index = current_row_index\n",
    "        new_column_index = current_column_index\n",
    "        if self.actions[action_index] == 'up' and current_row_index > 0:\n",
    "            new_row_index -= 1\n",
    "        elif self.actions[action_index] == 'right' and current_column_index < self.env.ncols - 1:\n",
    "            new_column_index += 1\n",
    "        elif self.actions[action_index] == 'down' and current_row_index < self.env.nrows - 1:\n",
    "            new_row_index += 1\n",
    "        elif self.actions[action_index] == 'left' and current_column_index > 0:\n",
    "            new_column_index -= 1\n",
    "        return new_row_index, new_column_index\n",
    "    \n",
    "    def reset(self, randomizepos):\n",
    "        if randomizepos:\n",
    "            self.startx, self.starty = self._get_random_valid_pos()\n",
    "            self.x = self.startx\n",
    "            self.y = self.starty\n",
    "        else:\n",
    "            self.set_starting_pos(self.startx, self.starty)\n",
    "        return self.build_state(self.x, self.y)\n",
    "        \n",
    "    def build_state(self, *args):\n",
    "        if len(args)==1:\n",
    "            # state\n",
    "            state = args[0]\n",
    "            return np.array([state,]) \n",
    "        elif len(args)==2:\n",
    "            # x, y\n",
    "            x = args[0]\n",
    "            y = args[1]\n",
    "            return np.array([[x, y],])  \n",
    "        else:\n",
    "            raise ValueError(\"[BuildState] Invalid number of arguments passed\")\n",
    "    \n",
    "    def step(self, actionindex):\n",
    "        # Take the step and calculate new state\n",
    "        self.x, self.y = self.get_next_location(self.x, self.y, actionindex)\n",
    "        newstate = self.build_state(self.x, self.y)\n",
    "        # Calculate reward\n",
    "        reward = self.env.rewards[self.x][self.y]\n",
    "        done = self.env.is_end(self.x, self.y) or self.env.is_enemy(self.x, self.y)\n",
    "        return newstate, reward, done\n",
    "    \n",
    "    def replay(self, batch_size):\n",
    "        minibatch = random.sample(self.memory, batch_size)\n",
    "        for state, action, reward, next_state, done in minibatch:\n",
    "            target = self.model.predict(state, verbose=0)\n",
    "            if done:\n",
    "                target[0][action] = reward\n",
    "            else:\n",
    "                t = self.target_model.predict(next_state, verbose=0)[0]\n",
    "                target[0][action] = reward + self.qsettings.discount * np.amax(t)\n",
    "            self.model.fit(state, target, epochs=1, verbose=0)\n",
    "        if self.qsettings.epsilon > self.qsettings.epsilon_min:\n",
    "            self.qsettings.epsilon *= self.qsettings.epsilon_decay\n",
    "    \n",
    "    def trainDNN(self, epochs: int, epoch_max_time: int, batch_size: int, randomizepos: bool = True, verbose: bool = False):\n",
    "        self.runinfo = RunInfo(epochs, epoch_max_time)\n",
    "        self.runinfo.start_timer()\n",
    "        for epoch in range(epochs):\n",
    "            state = self.reset(randomizepos)\n",
    "            done = False\n",
    "            for time in range(epoch_max_time):\n",
    "                print(f\"Running time {time+1}/{epoch_max_time} for epoch {epoch+1}/{epochs}\", end='\\r', flush=True)\n",
    "                ### Choose an action using the epsilon-greedy algorithm\n",
    "                actionindex = self.get_next_action(state)\n",
    "                newstate, reward, done = self.step(actionindex)\n",
    "                # Store transition ( s,a,r,s',done )\n",
    "                self.memorize(state, actionindex, reward, newstate, done)\n",
    "                state = newstate\n",
    "                if done:\n",
    "                    self.update_target_model()\n",
    "                    print(\"episode: {}/{}, score: {}, e: {:.2}\"\n",
    "                          .format(epoch+1, epochs, time+1, self.qsettings.epsilon))\n",
    "                    break\n",
    "                else:\n",
    "                    if len(self.memory) > batch_size: # If enough experiences in memory -> replay\n",
    "                        self.replay(batch_size)\n",
    "                self.runinfo.add_score(epoch, time, self.qsettings.epsilon)\n",
    "        self.runinfo.end_timer()\n",
    "        traintime = self.runinfo.get_timer()\n",
    "        self.trained = True\n",
    "        print(f\"Train completed in {traintime} seconds\")\n",
    "        \n",
    "    \n",
    "    def run(self, startingpos: tuple, maxiterations: int = 10000, verbose: bool = False):\n",
    "        self.set_starting_pos(startingpos)\n",
    "        if self.env.is_enemy(self.startx, self.starty) or self.env.is_end(self.startx, self.starty):\n",
    "            return []\n",
    "        else:\n",
    "            state = self.reset(False)\n",
    "            shortestpath = []\n",
    "            shortestpath.append((self.startx, self.starty))\n",
    "            i: int = 0\n",
    "            while not (self.env.is_end(self.x, self.y) or self.env.is_enemy(self.x, self.y)):\n",
    "                actionindex = self.get_next_action(state)\n",
    "                self.x, self.y = self.get_next_location(self.x, self.y, actionindex)\n",
    "                shortestpath.append((self.x, self.y))\n",
    "                print(f\"({self.x},{self.y})\", end='\\r',flush=True)\n",
    "                i+=1\n",
    "                if (i >= maxiterations):\n",
    "                    print(f\"Reached maximum iterations {maxiterations}. Current position: ({self.x},{self.y})\")\n",
    "                    return []\n",
    "            self.ran = True\n",
    "            return shortestpath\n",
    "    \n",
    "\n",
    "    \n",
    "class Enemy(Character):\n",
    "    def __init__(self, x, y, radius = 3) -> None:\n",
    "        super().__init__(x,y)\n",
    "        self.radius = radius\n",
    "        \n",
    "    def inrange(self, x,y):\n",
    "        return Math.distance(x,self.x, y, self.y) <= self.radius\n",
    "        \n",
    "    "
   ]
  },
  {
   "cell_type": "code",
   "execution_count": 6,
   "id": "9556fbe8",
   "metadata": {},
   "outputs": [],
   "source": [
    "class Environment():\n",
    "    def __init__(self, nrows: int, ncols: int, starting_location: tuple, end_location: tuple, nenemies: int, ):\n",
    "        self.nrows = nrows\n",
    "        self.ncols = ncols\n",
    "        self.mapsize = (nrows, ncols)\n",
    "        self.end_location = end_location\n",
    "        self.endrow, self.endcol = self.end_location\n",
    "        self.nenemies = nenemies\n",
    "        \n",
    "        \n",
    "        self.enemies = []\n",
    "        self.rewards = np.full((self.nrows, self.ncols), -1.)\n",
    "        \n",
    "        self.basereward = -1\n",
    "        self.enemyreward = -300\n",
    "        self.endreward = 300\n",
    "        \n",
    "        self.__build_enemies__()\n",
    "        self.__build_rewards__()\n",
    "    \n",
    "        \n",
    "    def __build_enemies__(self):\n",
    "        if len(self.enemies) <= 0:\n",
    "            while len(self.enemies) < self.nenemies:\n",
    "                randx = np.random.randint(self.nrows)\n",
    "                randy = np.random.randint(self.ncols)\n",
    "                if (randx, randy) not in self.enemies:\n",
    "                    if (randx,randy) != self.end_location:\n",
    "                        self.enemies.append((randx, randy))\n",
    "                        \n",
    "    def __build_rewards__(self):\n",
    "        for enemy in self.enemies:\n",
    "            ob_x, ob_y = enemy\n",
    "            self.rewards[ob_x][ob_y] = self.enemyreward\n",
    "        self.rewards[self.end_location[0]][self.end_location[1]] = self.endreward\n",
    "    \n",
    "    \n",
    "    def is_enemy(self, x, y):\n",
    "        return self.rewards[x][x] == self.enemyreward\n",
    "    def is_end(self, x, y):\n",
    "        return self.rewards[x][y] == self.endreward\n",
    "    \n",
    "    def showmap(self):\n",
    "        if len(self.enemies) > 0:\n",
    "            fig, ax = plt.subplots(figsize=(9,9))\n",
    "            ax.set_title(\"Reward map\")\n",
    "            ax.set_xlabel(\"col\")\n",
    "            ax.set_ylabel(\"row\")\n",
    "            rewardmap = self.rewards\n",
    "            ax.imshow(rewardmap)\n",
    "            plt.show()      \n",
    "    \n",
    "    def showpath(self, startpos: tuple, shortestpath: list):\n",
    "        if len(shortestpath) > 0:\n",
    "            newmap = self.rewards\n",
    "            newmap[startpos[0]][startpos[1]] = -50\n",
    "            for pos in shortestpath:\n",
    "                r, c = pos\n",
    "                newmap[r][c] = 100\n",
    "            fig, ax = plt.subplots(figsize=(9,9))\n",
    "            ax.set_title(\"Reward map\")\n",
    "            ax.set_xlabel(\"col\")\n",
    "            ax.set_ylabel(\"row\")\n",
    "            ax.imshow(newmap)\n",
    "            plt.show()\n",
    "    \n",
    "    def save(self, name): \n",
    "        self.model.save_weights(name)"
   ]
  },
  {
   "cell_type": "code",
   "execution_count": 7,
   "id": "f6855dd7",
   "metadata": {},
   "outputs": [
    {
     "name": "stderr",
     "output_type": "stream",
     "text": [
      "WARNING:absl:`lr` is deprecated, please use `learning_rate` instead, or use the legacy optimizer, e.g.,tf.keras.optimizers.legacy.Adam.\n",
      "WARNING:absl:`lr` is deprecated, please use `learning_rate` instead, or use the legacy optimizer, e.g.,tf.keras.optimizers.legacy.Adam.\n"
     ]
    }
   ],
   "source": [
    "e = Environment(\n",
    "    30,30,\n",
    "    (1,1),\n",
    "    (28,28),\n",
    "    100\n",
    ")\n",
    "\n",
    "agentqsettings = QSettings(epsilon=0.9, discount=0.4, learning_rate=0.001)\n",
    "a = Agent(e, 1, 1, agentqsettings)"
   ]
  },
  {
   "cell_type": "code",
   "execution_count": 8,
   "id": "19552e06",
   "metadata": {},
   "outputs": [
    {
     "data": {
      "image/png": "[encoded data removed]",
      "text/plain": [
       "<Figure size 648x648 with 1 Axes>"
      ]
     },
     "metadata": {
      "needs_background": "light"
     },
     "output_type": "display_data"
    }
   ],
   "source": [
    "e.showmap()"
   ]
  },
  {
   "cell_type": "code",
   "execution_count": 9,
   "id": "eb941ca2",
   "metadata": {},
   "outputs": [
    {
     "name": "stdout",
     "output_type": "stream",
     "text": [
      "episode: 1/5, score: 2, e: 0.95\n",
      "episode: 2/5, score: 1, e: 0.95\n",
      "episode: 3/5, score: 1, e: 0.95\n",
      "episode: 4/5, score: 1, e: 0.95\n",
      "episode: 5/5, score: 1, e: 0.95\n",
      "Train completed in 0.2197096347808838 seconds\n"
     ]
    }
   ],
   "source": [
    "a.trainDNN(5, 90, 32, False, False) "
   ]
  },
  {
   "cell_type": "code",
   "execution_count": 10,
   "id": "c6cb9930",
   "metadata": {},
   "outputs": [
    {
     "name": "stdout",
     "output_type": "stream",
     "text": [
      "0.9\n"
     ]
    }
   ],
   "source": [
    "print(a.qsettings.epsilon)"
   ]
  },
  {
   "cell_type": "code",
   "execution_count": 11,
   "id": "f58535b4",
   "metadata": {},
   "outputs": [],
   "source": [
    "startpos = (24,1)\n",
    "shortestpath = a.run(startpos)"
   ]
  },
  {
   "cell_type": "code",
   "execution_count": 12,
   "id": "d26e9279",
   "metadata": {},
   "outputs": [
    {
     "name": "stdout",
     "output_type": "stream",
     "text": [
      "[(24, 1)]\n"
     ]
    }
   ],
   "source": [
    "print(shortestpath)"
   ]
  },
  {
   "cell_type": "code",
   "execution_count": 13,
   "id": "5288f5f3",
   "metadata": {},
   "outputs": [
    {
     "data": {
      "image/png": "[encoded data removed]",
      "text/plain": [
       "<Figure size 648x648 with 1 Axes>"
      ]
     },
     "metadata": {
      "needs_background": "light"
     },
     "output_type": "display_data"
    }
   ],
   "source": [
    "e.showpath(startpos, shortestpath)"
   ]
  },
  {
   "cell_type": "code",
   "execution_count": 14,
   "id": "fe9a5c3c",
   "metadata": {
    "scrolled": true
   },
   "outputs": [
    {
     "name": "stdout",
     "output_type": "stream",
     "text": [
      "[(24, 1)]\n"
     ]
    }
   ],
   "source": [
    "print(shortestpath)"
   ]
  },
  {
   "cell_type": "code",
   "execution_count": null,
   "id": "dcb8951e",
   "metadata": {},
   "outputs": [],
   "source": []
  }
 ],
 "metadata": {
  "kernelspec": {
   "display_name": "Python 3",
   "language": "python",
   "name": "python3"
  },
  "language_info": {
   "codemirror_mode": {
    "name": "ipython",
    "version": 3
   },
   "file_extension": ".py",
   "mimetype": "text/x-python",
   "name": "python",
   "nbconvert_exporter": "python",
   "pygments_lexer": "ipython3",
   "version": "3.8.8"
  }
 },
 "nbformat": 4,
 "nbformat_minor": 5
}
