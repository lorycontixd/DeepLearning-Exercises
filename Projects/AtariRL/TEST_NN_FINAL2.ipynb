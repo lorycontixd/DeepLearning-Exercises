{
 "cells": [
  {
   "cell_type": "code",
   "execution_count": 1,
   "id": "59524940",
   "metadata": {},
   "outputs": [],
   "source": [
    "%load_ext line_profiler\n",
    "%load_ext tensorboard"
   ]
  },
  {
   "cell_type": "code",
   "execution_count": 2,
   "id": "fce8bd10",
   "metadata": {},
   "outputs": [
    {
     "name": "stderr",
     "output_type": "stream",
     "text": [
      "2022-10-27 14:45:18.000844: I tensorflow/core/platform/cpu_feature_guard.cc:193] This TensorFlow binary is optimized with oneAPI Deep Neural Network Library (oneDNN) to use the following CPU instructions in performance-critical operations:  AVX2 FMA\n",
      "To enable them in other operations, rebuild TensorFlow with the appropriate compiler flags.\n",
      "2022-10-27 14:45:18.295202: W tensorflow/stream_executor/platform/default/dso_loader.cc:64] Could not load dynamic library 'libcudart.so.11.0'; dlerror: libcudart.so.11.0: cannot open shared object file: No such file or directory\n",
      "2022-10-27 14:45:18.295250: I tensorflow/stream_executor/cuda/cudart_stub.cc:29] Ignore above cudart dlerror if you do not have a GPU set up on your machine.\n",
      "2022-10-27 14:45:18.329728: E tensorflow/stream_executor/cuda/cuda_blas.cc:2981] Unable to register cuBLAS factory: Attempting to register factory for plugin cuBLAS when one has already been registered\n",
      "2022-10-27 14:45:19.411487: W tensorflow/stream_executor/platform/default/dso_loader.cc:64] Could not load dynamic library 'libnvinfer.so.7'; dlerror: libnvinfer.so.7: cannot open shared object file: No such file or directory\n",
      "2022-10-27 14:45:19.411803: W tensorflow/stream_executor/platform/default/dso_loader.cc:64] Could not load dynamic library 'libnvinfer_plugin.so.7'; dlerror: libnvinfer_plugin.so.7: cannot open shared object file: No such file or directory\n",
      "2022-10-27 14:45:19.411835: W tensorflow/compiler/tf2tensorrt/utils/py_utils.cc:38] TF-TRT Warning: Cannot dlopen some TensorRT libraries. If you would like to use Nvidia GPU with TensorRT, please make sure the missing libraries mentioned above are installed properly.\n"
     ]
    }
   ],
   "source": [
    "import numpy as np\n",
    "import os\n",
    "import tensorflow as tf\n",
    "import keras\n",
    "from tensorflow.keras import mixed_precision\n",
    "#mixed_precision.set_global_policy('mixed_float16')\n",
    "tf.get_logger().setLevel(0)\n",
    "tf.autograph.set_verbosity(0)\n",
    "import absl.logging\n",
    "absl.logging.set_verbosity(absl.logging.ERROR)\n",
    "import tensorflow.compat.v1.keras.backend as backend\n",
    "from tensorflow.compat.v1 import Session, ConfigProto\n",
    "from tensorflow.keras import models, layers, losses\n",
    "from tensorflow.keras.models import Sequential\n",
    "from tensorflow.keras.layers import Dense, Dropout, Conv2D, MaxPooling2D, Activation, Flatten\n",
    "from tensorflow.keras.optimizers import Adam\n",
    "from tensorflow.keras.callbacks import TensorBoard\n",
    "from tensorflow.compat.v1 import GPUOptions\n",
    "from matplotlib import pyplot as plt\n",
    "from collections import deque\n",
    "from dataclasses import dataclass\n",
    "from os import listdir\n",
    "from os.path import isfile, join\n",
    "import datetime\n",
    "import time\n",
    "import random\n",
    "from tqdm import tqdm\n",
    "from PIL import Image\n",
    "import cv2"
   ]
  },
  {
   "cell_type": "code",
   "execution_count": 3,
   "id": "f176448f",
   "metadata": {},
   "outputs": [],
   "source": [
    "DISCOUNT = 0.99\n",
    "REPLAY_MEMORY_SIZE = 50_000  # How many last steps to keep for model training (default=50_000)\n",
    "MIN_REPLAY_MEMORY_SIZE = 1_000  # Minimum number of steps in a memory to start training (default=1_000)\n",
    "MINIBATCH_SIZE = 16  # How many steps (samples) to use for training (default=32, pref multiple of 8)\n",
    "UPDATE_TARGET_EVERY = 10  # Terminal states (end of episodes) (default=20)\n",
    "MODEL_NAME = '2x256'\n",
    "MIN_REWARD = -200  # For model save\n",
    "MEMORY_FRACTION = 0.20\n",
    "\n",
    "# Environment settings\n",
    "EPISODES = 100 # (default=20_000)\n",
    "\n",
    "# Exploration settings\n",
    "epsilon = 0.99\n",
    "EPSILON_DECAY = 0.999 # (default=0.99975)\n",
    "MIN_EPSILON = 0.001\n",
    "\n",
    "#  Stats settings\n",
    "EPISODE_LIMIT_WARNING = 500\n",
    "AGGREGATE_STATS_EVERY = 4 # episodes -> default=50\n",
    "SHOW_PREVIEW = True"
   ]
  },
  {
   "cell_type": "code",
   "execution_count": 4,
   "id": "9586174f",
   "metadata": {},
   "outputs": [],
   "source": [
    "@dataclass\n",
    "class TrainInfo:\n",
    "    duration: float\n",
    "    total_steps: int\n",
    "\n",
    "@dataclass\n",
    "class TrainSettings:\n",
    "    min_replay_memory_size: int = 1000\n",
    "    replay_memory_size: int = 50000\n",
    "    minibatch_size: int = 32\n",
    "    update_target_every: int = 10\n",
    "    \n",
    "    # Env\n",
    "    episodes: int = 20000\n",
    "    episode_limit_warning: int = 1000\n",
    "        \n",
    "    # Stats\n",
    "    aggregate_stats_every: int = 50\n",
    "        \n",
    "    # Exploration settings\n",
    "    min_reward: int = -200  \n",
    "    epsilon: float = 0.99\n",
    "    min_epsilon: float = 0.001\n",
    "    epsilon_decay: float = 0.99975\n",
    "    discount: float = 0.99"
   ]
  },
  {
   "cell_type": "code",
   "execution_count": 5,
   "id": "d24742ba",
   "metadata": {},
   "outputs": [],
   "source": [
    "class Blob:\n",
    "    def __init__(self, size, pos: tuple = None):\n",
    "        self.size = size\n",
    "        if pos is None:\n",
    "            self.x = np.random.randint(0, size)\n",
    "            self.y = np.random.randint(0, size)\n",
    "        else:\n",
    "            assert isinstance(pos, tuple), \"Blob position must be a tuple\"\n",
    "            assert len(pos)==2, f\"Blob position must have 2 elements, not {len(tuple)}\"\n",
    "            assert isinstance(pos[0], int) and isinstance(pos[1], int), \"Blob position must be integers\"\n",
    "            assert pos[0] < size and pos[1] < size, \"Blob position outside environment space\"\n",
    "            self.x = pos[0]\n",
    "            self.y = pos[1]\n",
    "\n",
    "    def __str__(self):\n",
    "        return f\"Blob ({self.x}, {self.y})\"\n",
    "\n",
    "    def __sub__(self, other):\n",
    "        return (self.x-other.x, self.y-other.y)\n",
    "\n",
    "    def __eq__(self, other):\n",
    "        return self.x == other.x and self.y == other.y\n",
    "\n",
    "    def action(self, choice):\n",
    "        '''\n",
    "        Gives us 9 total movement options. (0,1,2,3,4,5,6,7,8)\n",
    "        '''\n",
    "        if choice == 0:\n",
    "            self.move(x=1, y=1)\n",
    "        elif choice == 1:\n",
    "            self.move(x=-1, y=-1)\n",
    "        elif choice == 2:\n",
    "            self.move(x=-1, y=1)\n",
    "        elif choice == 3:\n",
    "            self.move(x=1, y=-1)\n",
    "\n",
    "        elif choice == 4:\n",
    "            self.move(x=1, y=0)\n",
    "        elif choice == 5:\n",
    "            self.move(x=-1, y=0)\n",
    "\n",
    "        elif choice == 6:\n",
    "            self.move(x=0, y=1)\n",
    "        elif choice == 7:\n",
    "            self.move(x=0, y=-1)\n",
    "\n",
    "        elif choice == 8:\n",
    "            self.move(x=0, y=0)\n",
    "\n",
    "    def move(self, x=False, y=False):\n",
    "\n",
    "        # If no value for x, move randomly\n",
    "        if not x:\n",
    "            self.x += np.random.randint(-1, 2)\n",
    "        else:\n",
    "            self.x += x\n",
    "\n",
    "        # If no value for y, move randomly\n",
    "        if not y:\n",
    "            self.y += np.random.randint(-1, 2)\n",
    "        else:\n",
    "            self.y += y\n",
    "\n",
    "        # If we are out of bounds, fix!\n",
    "        if self.x < 0:\n",
    "            self.x = 0\n",
    "        elif self.x > self.size-1:\n",
    "            self.x = self.size-1\n",
    "        if self.y < 0:\n",
    "            self.y = 0\n",
    "        elif self.y > self.size-1:\n",
    "            self.y = self.size-1\n",
    "\n",
    "\n",
    "class BlobEnv:\n",
    "    SIZE = 10\n",
    "    RETURN_IMAGES = True\n",
    "    MOVE_PENALTY = 1\n",
    "    ENEMY_PENALTY = 300\n",
    "    FOOD_REWARD = 25\n",
    "    OBSERVATION_SPACE_VALUES = (SIZE, SIZE, 3)  # 4\n",
    "    ACTION_SPACE_SIZE = 9\n",
    "    \n",
    "    PLAYER_N = 1  # player key in dict\n",
    "    FOOD_N = 2  # food key in dict\n",
    "    ENEMY_N = 3  # enemy key in dict\n",
    "    # the dict! (colors)\n",
    "    d = {1: (255, 175, 0),\n",
    "         2: (0, 255, 0),\n",
    "         3: (0, 0, 255)}\n",
    "    \n",
    "    def __init__(self) -> None:\n",
    "        if self.RETURN_IMAGES and not os.path.exists(\"images\"):\n",
    "            os.makedirs(\"images\")\n",
    "\n",
    "    def reset(self, playerpos: tuple = None, endpos: tuple = None):\n",
    "        self.player = Blob(self.SIZE, playerpos)\n",
    "        self.food = Blob(self.SIZE, endpos)\n",
    "        while self.food == self.player:\n",
    "            self.food = Blob(self.SIZE)\n",
    "        self.enemy = Blob(self.SIZE)\n",
    "        while self.enemy == self.player or self.enemy == self.food:\n",
    "            self.enemy = Blob(self.SIZE)\n",
    "\n",
    "        self.episode_step = 0\n",
    "\n",
    "        if self.RETURN_IMAGES:\n",
    "            observation = np.array(self.get_image())\n",
    "        else:\n",
    "            observation = (self.player-self.food) + (self.player-self.enemy)\n",
    "        return observation\n",
    "    \n",
    "    def step(self, action):\n",
    "        self.episode_step += 1\n",
    "        self.player.action(action)\n",
    "\n",
    "        #### MAYBE ###\n",
    "        #enemy.move()\n",
    "        #food.move()\n",
    "        ##############\n",
    "\n",
    "        if self.RETURN_IMAGES:\n",
    "            new_observation = np.array(self.get_image())\n",
    "        else:\n",
    "            new_observation = (self.player-self.food) + (self.player-self.enemy)\n",
    "\n",
    "        if self.player == self.enemy:\n",
    "            reward = -self.ENEMY_PENALTY\n",
    "        elif self.player == self.food:\n",
    "            reward = self.FOOD_REWARD\n",
    "        else:\n",
    "            reward = -self.MOVE_PENALTY\n",
    "\n",
    "        done = False\n",
    "        if reward == self.FOOD_REWARD or reward == -self.ENEMY_PENALTY or self.episode_step >= 200:\n",
    "            done = True\n",
    "\n",
    "        return new_observation, reward, done\n",
    "\n",
    "    def render(self):\n",
    "        img = self.get_image()\n",
    "        img = img.resize((600, 600))  # resizing so we can see our agent in all its glory.\n",
    "        #cv2.imshow(\"image\", np.array(img))  # show it!\n",
    "        cv2.imwrite(os.path.join(\"images\",f'image_{self.episode_step}.png'), np.array(img))\n",
    "        cv2.waitKey(1)\n",
    "\n",
    "    # FOR CNN #\n",
    "    def get_image(self, save: bool = False):\n",
    "        env = np.zeros((self.SIZE, self.SIZE, 3), dtype=np.uint8)  # starts an rbg of our size\n",
    "        env[self.food.x][self.food.y] = self.d[self.FOOD_N]  # sets the food location tile to green color\n",
    "        env[self.enemy.x][self.enemy.y] = self.d[self.ENEMY_N]  # sets the enemy location to red\n",
    "        env[self.player.x][self.player.y] = self.d[self.PLAYER_N]  # sets the player tile to blue\n",
    "        img = Image.fromarray(env, 'RGB')  # reading to rgb. Apparently. Even tho color definitions are bgr. ???\n",
    "        return img\n",
    "\n",
    "# Own Tensorboard class\n",
    "class ModifiedTensorBoard(TensorBoard):\n",
    "\n",
    "    # Overriding init to set initial step and writer (we want one log file for all .fit() calls)\n",
    "    def __init__(self, **kwargs):\n",
    "        super().__init__(**kwargs)\n",
    "        self.step = 1\n",
    "        self.writer = tf.summary.create_file_writer(self.log_dir)\n",
    "        self._log_write_dir = self.log_dir\n",
    "\n",
    "    # Overriding this method to stop creating default log writer\n",
    "    def set_model(self, model):\n",
    "        self.model = model\n",
    "\n",
    "        self._train_dir = os.path.join(self._log_write_dir, 'train')\n",
    "        self._train_step = self.model._train_counter\n",
    "\n",
    "        self._val_dir = os.path.join(self._log_write_dir, 'validation')\n",
    "        self._val_step = self.model._test_counter\n",
    "\n",
    "        self._should_write_train_graph = False\n",
    "\n",
    "\n",
    "    # Overrided, saves logs with our step number\n",
    "    # (otherwise every .fit() will start writing from 0th step)\n",
    "    def on_epoch_end(self, epoch, logs=None):\n",
    "        self.update_stats(**logs)\n",
    "\n",
    "    # Overrided\n",
    "    # We train for one batch only, no need to save anything at epoch end\n",
    "    def on_batch_end(self, batch, logs=None):\n",
    "        pass\n",
    "\n",
    "    # Overrided, so won't close writer\n",
    "    def on_train_end(self, _):\n",
    "        pass\n",
    "\n",
    "    # Custom method for saving own metrics\n",
    "    # Creates writer, writes custom metrics and closes writer\n",
    "    def update_stats(self, **stats):\n",
    "        self._write_logs(stats, self.step)\n",
    "        \n",
    "    def _write_logs(self, logs, index):\n",
    "        with self.writer.as_default():\n",
    "            for name, value in logs.items():\n",
    "                tf.summary.scalar(name, value, step=index)\n",
    "                self.step += 1\n",
    "                self.writer.flush()\n",
    "                \n",
    "# Agent class\n",
    "class DQNAgent:\n",
    "    def __init__(self, env, custom_model: str = None):\n",
    "        self.env = env\n",
    "\n",
    "        self.model = self.create_model()\n",
    "        self.target_model = self.create_model()\n",
    "        self.target_model.set_weights(self.model.get_weights())\n",
    "\n",
    "        # An array with last n steps for training\n",
    "        self.replay_memory = deque(maxlen=REPLAY_MEMORY_SIZE)\n",
    "\n",
    "        # Custom tensorboard object\n",
    "        self.tensorboard = ModifiedTensorBoard(log_dir=\"logs/{}-{}\".format(MODEL_NAME, int(time.time())))\n",
    "\n",
    "        # Used to count when to update target network with main network's weights\n",
    "        self.target_update_counter = 0\n",
    "\n",
    "    def create_model(self, custom_model: str = None):\n",
    "        if custom_model is None:\n",
    "            model = Sequential()\n",
    "\n",
    "            model.add(Conv2D(256, (3, 3), input_shape=self.env.OBSERVATION_SPACE_VALUES))  # OBSERVATION_SPACE_VALUES = (10, 10, 3) a 10x10 RGB image.\n",
    "            model.add(Activation('relu'))\n",
    "            model.add(MaxPooling2D(pool_size=(2, 2)))\n",
    "            model.add(Dropout(0.2))\n",
    "\n",
    "            model.add(Conv2D(256, (3, 3)))\n",
    "            model.add(Activation('relu'))\n",
    "            model.add(MaxPooling2D(pool_size=(2, 2)))\n",
    "            model.add(Dropout(0.2))\n",
    "\n",
    "            model.add(Flatten())  # this converts our 3D feature maps to 1D feature vectors\n",
    "            model.add(Dense(64))\n",
    "\n",
    "            model.add(Dense(self.env.ACTION_SPACE_SIZE, activation='linear'))  # ACTION_SPACE_SIZE = how many choices (9)\n",
    "            model.compile(loss=\"mse\", optimizer=Adam(learning_rate=0.001), metrics=['accuracy'])\n",
    "            return model\n",
    "        else:\n",
    "            return self.load_model(custom_model)\n",
    "            \n",
    "    \n",
    "    def load_model(self, name):\n",
    "        return tf.keras.models.load_model(name)\n",
    "\n",
    "    # Adds step's data to a memory replay array\n",
    "    # (observation space, action, reward, new observation space, done)\n",
    "    def update_replay_memory(self, transition):\n",
    "        self.replay_memory.append(transition)\n",
    "\n",
    "    # Trains main network every step during episode\n",
    "    def replay(self, terminal_state, step, minibatch_size: int, min_replay_memory_size: int, discount: float, update_target_every: int):\n",
    "\n",
    "        # Start training only if certain number of samples is already saved\n",
    "        if len(self.replay_memory) < min_replay_memory_size:\n",
    "            return\n",
    "\n",
    "        # Get a minibatch of random samples from memory replay table\n",
    "        minibatch = random.sample(self.replay_memory, minibatch_size)\n",
    "\n",
    "        # Get current states from minibatch, then query NN model for Q values\n",
    "        current_states = np.array([transition[0] for transition in minibatch])/255\n",
    "        current_qs_list = self.model.predict(current_states, verbose=0)\n",
    "\n",
    "        # Get future states from minibatch, then query NN model for Q values\n",
    "        # When using target network, query it, otherwise main network should be queried\n",
    "        new_current_states = np.array([transition[3] for transition in minibatch])/255\n",
    "        future_qs_list = self.target_model.predict(new_current_states, verbose=0)\n",
    "\n",
    "        X = []\n",
    "        y = []\n",
    "\n",
    "        # Now we need to enumerate our batches\n",
    "        for index, (current_state, action, reward, new_current_state, done) in enumerate(minibatch):\n",
    "\n",
    "            # If not a terminal state, get new q from future states, otherwise set it to 0\n",
    "            # almost like with Q Learning, but we use just part of equation here\n",
    "            if not done:\n",
    "                max_future_q = np.max(future_qs_list[index])\n",
    "                new_q = reward + discount * max_future_q\n",
    "            else:\n",
    "                new_q = reward\n",
    "\n",
    "            # Update Q value for given state\n",
    "            current_qs = current_qs_list[index]\n",
    "            current_qs[action] = new_q\n",
    "\n",
    "            # And append to our training data\n",
    "            X.append(current_state)\n",
    "            y.append(current_qs)\n",
    "\n",
    "        # Fit on all samples as one batch, log only on terminal state\n",
    "        self.model.fit(np.array(X)/255, np.array(y), batch_size=minibatch_size, verbose=False, shuffle=False, callbacks=[self.tensorboard] if terminal_state else None)\n",
    "\n",
    "        # Update target network counter every episode\n",
    "        if terminal_state:\n",
    "            self.target_update_counter += 1\n",
    "\n",
    "        # If counter reaches set value, update target network with weights of main network\n",
    "        if self.target_update_counter > update_target_every:\n",
    "            self.target_model.set_weights(self.model.get_weights())\n",
    "            self.target_update_counter = 0\n",
    "\n",
    "    # Queries main network for Q values given current observation space (environment state)\n",
    "    def get_qs(self, state):\n",
    "        return self.model.predict(np.array(state).reshape(-1, *state.shape)/255, verbose=0)[0]\n",
    "    \n",
    "    def train(self, training_settings, verbose: bool = False):\n",
    "        assert isinstance(training_settings, TrainSettings)\n",
    "        modelspath = os.path.join(os.getcwd(), \"models\")\n",
    "        # Create models folder\n",
    "        if not os.path.isdir(modelspath):\n",
    "            os.makedirs(modelspath)\n",
    "        total_steps = 0\n",
    "        \n",
    "        for episode in range(1, training_settings.episodes + 1):\n",
    "            ep_start = time.time()\n",
    "            if verbose:\n",
    "                print(f\"Starting episode {episode}/{EPISODES+1}\", end='\\r', flush = True)\n",
    "            # Update tensorboard step every episode\n",
    "            self.tensorboard.step = episode\n",
    "\n",
    "            # Restarting episode - reset episode reward and step number\n",
    "            episode_reward = 0\n",
    "            step = 1\n",
    "\n",
    "            # Reset environment and get initial state\n",
    "            current_state = self.env.reset()\n",
    "            warning_printed = False\n",
    "\n",
    "            # Reset flag and start iterating until episode ends\n",
    "            done = False\n",
    "            while not done:\n",
    "                # This part stays mostly the same, the change is to query a model for Q values\n",
    "                if np.random.random() > training_settings.epsilon:\n",
    "                    # Get action from Q table\n",
    "                    action = np.argmax(self.get_qs(current_state))\n",
    "                else:\n",
    "                    # Get random action\n",
    "                    action = np.random.randint(0, self.env.ACTION_SPACE_SIZE)\n",
    "\n",
    "                new_state, reward, done = self.env.step(action)\n",
    "\n",
    "                # Transform new continous state to new discrete state and count reward\n",
    "                episode_reward += reward\n",
    "\n",
    "                if SHOW_PREVIEW and not episode % training_settings.aggregate_stats_every:\n",
    "                    self.env.render()\n",
    "\n",
    "                # Every step we update replay memory and train main network\n",
    "                self.update_replay_memory((current_state, action, reward, new_state, done))\n",
    "                self.replay(done, step, training_settings.minibatch_size, training_settings.min_replay_memory_size, training_settings.discount, training_settings.update_target_every)\n",
    "                current_state = new_state\n",
    "                if step > training_settings.episode_limit_warning and not warning_printed:\n",
    "                    print(f\"Warning: episode step exceeded limit {EPISODE_LIMIT_WARNING}\")\n",
    "                    warning_printed = True\n",
    "                step += 1\n",
    "\n",
    "            ### Stats\n",
    "            # Append episode reward to a list and log stats (every given number of episodes)\n",
    "            ep_rewards.append(episode_reward)\n",
    "            if not episode % training_settings.aggregate_stats_every or episode == 1:\n",
    "                average_reward = sum(ep_rewards[-training_settings.aggregate_stats_every:])/len(ep_rewards[-training_settings.aggregate_stats_every:])\n",
    "                min_reward = min(ep_rewards[-training_settings.aggregate_stats_every:])\n",
    "                max_reward = max(ep_rewards[-training_settings.aggregate_stats_every:])\n",
    "                self.tensorboard.update_stats(reward_avg=average_reward, reward_min=min_reward, reward_max=max_reward, epsilon=training_settings.epsilon, steps=step)\n",
    "\n",
    "                # Save model, but only when min reward is greater or equal a set value\n",
    "                if average_reward >= training_settings.min_reward:\n",
    "                    self.model.save(f'models/{MODEL_NAME}__{max_reward:_>7.2f}max_{average_reward:_>7.2f}avg_{min_reward:_>7.2f}min__{int(time.time())}.model')\n",
    "\n",
    "            # Decay epsilon\n",
    "            if training_settings.epsilon > training_settings.min_epsilon:\n",
    "                training_settings.epsilon *= training_settings.epsilon_decay\n",
    "                training_settings.epsilon = max(training_settings.min_epsilon, training_settings.epsilon)\n",
    "            total_steps += step\n",
    "        end = time.time()\n",
    "        elapsed = end - start\n",
    "        elapsed_str = str(datetime.timedelta(seconds=elapsed))\n",
    "        print(\"Training complete in \",elapsed_str)\n",
    "        return TrainInfo(duration=elapsed, total_steps=total_steps)"
   ]
  },
  {
   "cell_type": "code",
   "execution_count": 6,
   "id": "40824c81",
   "metadata": {
    "scrolled": false
   },
   "outputs": [
    {
     "name": "stdout",
     "output_type": "stream",
     "text": [
      "Starting episode 3/101\r"
     ]
    },
    {
     "name": "stderr",
     "output_type": "stream",
     "text": [
      "2022-10-27 14:45:22.975416: E tensorflow/stream_executor/cuda/cuda_driver.cc:265] failed call to cuInit: CUDA_ERROR_NO_DEVICE: no CUDA-capable device is detected\n",
      "2022-10-27 14:45:22.975481: I tensorflow/stream_executor/cuda/cuda_diagnostics.cc:156] kernel driver does not appear to be running on this host (LAPTOP-MFCRQCGV): /proc/driver/nvidia/version does not exist\n",
      "2022-10-27 14:45:22.976040: I tensorflow/core/platform/cpu_feature_guard.cc:193] This TensorFlow binary is optimized with oneAPI Deep Neural Network Library (oneDNN) to use the following CPU instructions in performance-critical operations:  AVX2 FMA\n",
      "To enable them in other operations, rebuild TensorFlow with the appropriate compiler flags.\n"
     ]
    },
    {
     "name": "stdout",
     "output_type": "stream",
     "text": [
      "Starting episode 8/101\r"
     ]
    },
    {
     "name": "stderr",
     "output_type": "stream",
     "text": [
      "WARNING:absl:Found untraced functions such as _jit_compiled_convolution_op, _jit_compiled_convolution_op while saving (showing 2 of 2). These functions will not be directly callable after loading.\n"
     ]
    },
    {
     "name": "stdout",
     "output_type": "stream",
     "text": [
      "Starting episode 24/101\r"
     ]
    },
    {
     "name": "stderr",
     "output_type": "stream",
     "text": [
      "WARNING:absl:Found untraced functions such as _jit_compiled_convolution_op, _jit_compiled_convolution_op while saving (showing 2 of 2). These functions will not be directly callable after loading.\n"
     ]
    },
    {
     "name": "stdout",
     "output_type": "stream",
     "text": [
      "Starting episode 28/101\r"
     ]
    },
    {
     "name": "stderr",
     "output_type": "stream",
     "text": [
      "WARNING:absl:Found untraced functions such as _jit_compiled_convolution_op, _jit_compiled_convolution_op while saving (showing 2 of 2). These functions will not be directly callable after loading.\n"
     ]
    },
    {
     "name": "stdout",
     "output_type": "stream",
     "text": [
      "Starting episode 36/101\r"
     ]
    },
    {
     "name": "stderr",
     "output_type": "stream",
     "text": [
      "WARNING:absl:Found untraced functions such as _jit_compiled_convolution_op, _jit_compiled_convolution_op while saving (showing 2 of 2). These functions will not be directly callable after loading.\n"
     ]
    },
    {
     "name": "stdout",
     "output_type": "stream",
     "text": [
      "Starting episode 40/101\r"
     ]
    },
    {
     "name": "stderr",
     "output_type": "stream",
     "text": [
      "WARNING:absl:Found untraced functions such as _jit_compiled_convolution_op, _jit_compiled_convolution_op while saving (showing 2 of 2). These functions will not be directly callable after loading.\n"
     ]
    },
    {
     "name": "stdout",
     "output_type": "stream",
     "text": [
      "Starting episode 56/101\r"
     ]
    },
    {
     "name": "stderr",
     "output_type": "stream",
     "text": [
      "WARNING:absl:Found untraced functions such as _jit_compiled_convolution_op, _jit_compiled_convolution_op while saving (showing 2 of 2). These functions will not be directly callable after loading.\n"
     ]
    },
    {
     "name": "stdout",
     "output_type": "stream",
     "text": [
      "Starting episode 60/101\r"
     ]
    },
    {
     "name": "stderr",
     "output_type": "stream",
     "text": [
      "WARNING:absl:Found untraced functions such as _jit_compiled_convolution_op, _jit_compiled_convolution_op while saving (showing 2 of 2). These functions will not be directly callable after loading.\n"
     ]
    },
    {
     "name": "stdout",
     "output_type": "stream",
     "text": [
      "Starting episode 68/101\r"
     ]
    },
    {
     "name": "stderr",
     "output_type": "stream",
     "text": [
      "WARNING:absl:Found untraced functions such as _jit_compiled_convolution_op, _jit_compiled_convolution_op while saving (showing 2 of 2). These functions will not be directly callable after loading.\n"
     ]
    },
    {
     "name": "stdout",
     "output_type": "stream",
     "text": [
      "Starting episode 72/101\r"
     ]
    },
    {
     "name": "stderr",
     "output_type": "stream",
     "text": [
      "WARNING:absl:Found untraced functions such as _jit_compiled_convolution_op, _jit_compiled_convolution_op while saving (showing 2 of 2). These functions will not be directly callable after loading.\n"
     ]
    },
    {
     "name": "stdout",
     "output_type": "stream",
     "text": [
      "Starting episode 76/101\r"
     ]
    },
    {
     "name": "stderr",
     "output_type": "stream",
     "text": [
      "WARNING:absl:Found untraced functions such as _jit_compiled_convolution_op, _jit_compiled_convolution_op while saving (showing 2 of 2). These functions will not be directly callable after loading.\n"
     ]
    },
    {
     "name": "stdout",
     "output_type": "stream",
     "text": [
      "Starting episode 84/101\r"
     ]
    },
    {
     "name": "stderr",
     "output_type": "stream",
     "text": [
      "WARNING:absl:Found untraced functions such as _jit_compiled_convolution_op, _jit_compiled_convolution_op while saving (showing 2 of 2). These functions will not be directly callable after loading.\n"
     ]
    },
    {
     "name": "stdout",
     "output_type": "stream",
     "text": [
      "Starting episode 92/101\r"
     ]
    },
    {
     "name": "stderr",
     "output_type": "stream",
     "text": [
      "WARNING:absl:Found untraced functions such as _jit_compiled_convolution_op, _jit_compiled_convolution_op while saving (showing 2 of 2). These functions will not be directly callable after loading.\n"
     ]
    },
    {
     "name": "stdout",
     "output_type": "stream",
     "text": [
      "Starting episode 96/101\r"
     ]
    },
    {
     "name": "stderr",
     "output_type": "stream",
     "text": [
      "WARNING:absl:Found untraced functions such as _jit_compiled_convolution_op, _jit_compiled_convolution_op while saving (showing 2 of 2). These functions will not be directly callable after loading.\n"
     ]
    },
    {
     "name": "stdout",
     "output_type": "stream",
     "text": [
      "Starting episode 100/101\r"
     ]
    },
    {
     "name": "stderr",
     "output_type": "stream",
     "text": [
      "WARNING:absl:Found untraced functions such as _jit_compiled_convolution_op, _jit_compiled_convolution_op while saving (showing 2 of 2). These functions will not be directly callable after loading.\n"
     ]
    },
    {
     "name": "stdout",
     "output_type": "stream",
     "text": [
      "Training complete in  0:16:31.758060\n"
     ]
    },
    {
     "data": {
      "text/plain": [
       "TrainInfo(duration=991.758059501648, total_steps=7694)"
      ]
     },
     "execution_count": 6,
     "metadata": {},
     "output_type": "execute_result"
    }
   ],
   "source": [
    "start = time.time()\n",
    "env = BlobEnv()\n",
    "\n",
    "# For stats\n",
    "ep_rewards = [-200]\n",
    "\n",
    "# For more repetitive results\n",
    "random.seed(2)\n",
    "np.random.seed(2)\n",
    "tf.random.set_seed(2)\n",
    "\n",
    "# Memory fraction, used mostly when training multiple agents\n",
    "#gpu_options = GPUOptions(per_process_gpu_memory_fraction=MEMORY_FRACTION)\n",
    "#backend.set_session(Session(config=ConfigProto(gpu_options=gpu_options)))\n",
    "\n",
    "\n",
    "#modelfiles = [f for f in listdir(modelspath) if \"avg_-200\" in f]\n",
    "#print(modelfiles[0])\n",
    "agent = DQNAgent(env)\n",
    "\n",
    "# iterate over episodes\n",
    "#for episode in tqdm(range(1, EPISODES + 1), ascii=True, unit='episodes'):\n",
    "training_settings = TrainSettings(episodes=EPISODES, aggregate_stats_every=AGGREGATE_STATS_EVERY, min_reward=MIN_REWARD, episode_limit_warning=EPISODE_LIMIT_WARNING, discount=DISCOUNT, minibatch_size=MINIBATCH_SIZE, min_replay_memory_size=MIN_REPLAY_MEMORY_SIZE, update_target_every=UPDATE_TARGET_EVERY)\n",
    "agent.train(training_settings, True)\n",
    "\n"
   ]
  },
  {
   "cell_type": "code",
   "execution_count": 7,
   "id": "e394be0e",
   "metadata": {},
   "outputs": [
    {
     "data": {
      "text/html": [
       "\n",
       "      <iframe id=\"tensorboard-frame-735ec44cd94da1a1\" width=\"100%\" height=\"800\" frameborder=\"0\">\n",
       "      </iframe>\n",
       "      <script>\n",
       "        (function() {\n",
       "          const frame = document.getElementById(\"tensorboard-frame-735ec44cd94da1a1\");\n",
       "          const url = new URL(\"/\", window.location);\n",
       "          const port = 6006;\n",
       "          if (port) {\n",
       "            url.port = port;\n",
       "          }\n",
       "          frame.src = url;\n",
       "        })();\n",
       "      </script>\n",
       "    "
      ],
      "text/plain": [
       "<IPython.core.display.HTML object>"
      ]
     },
     "metadata": {},
     "output_type": "display_data"
    }
   ],
   "source": [
    "%tensorboard --logdir logs/"
   ]
  },
  {
   "cell_type": "code",
   "execution_count": 8,
   "id": "117c4370",
   "metadata": {},
   "outputs": [
    {
     "name": "stdout",
     "output_type": "stream",
     "text": [
      "Reaching food:  (5, 5)\n",
      "Enemy pos:  (8, 1)\n"
     ]
    }
   ],
   "source": [
    "# Run\n",
    "run_state = env.reset(playerpos=(4,4), endpos=(5,5))\n",
    "run_done = False\n",
    "run_path = [(env.player.x, env.player.y)]\n",
    "print(\"Reaching food: \", (env.food.x,env.food.y))\n",
    "print(\"Enemy pos: \", (env.enemy.x, env.enemy.y))\n",
    "while not run_done:\n",
    "    action = np.argmax(agent.get_qs(run_state))\n",
    "    new_state, reward, run_done = env.step(action)\n",
    "    if SHOW_PREVIEW:\n",
    "        env.render()\n",
    "    run_path.append((env.player.x, env.player.y))\n",
    "    run_state = new_state"
   ]
  },
  {
   "cell_type": "code",
   "execution_count": 9,
   "id": "368ee73b",
   "metadata": {},
   "outputs": [],
   "source": [
    "def show_env(env, path):\n",
    "    fig, ax = plt.subplots(figsize=(10,10))\n",
    "    envmap = np.full((env.SIZE, env.SIZE), -1)\n",
    "    for i,tile in enumerate(path):\n",
    "        envmap[tile[0]][tile[1]] = 2*(i+1)\n",
    "    ax.imshow(envmap)\n",
    "    plt.show()"
   ]
  },
  {
   "cell_type": "code",
   "execution_count": 10,
   "id": "539c7869",
   "metadata": {},
   "outputs": [
    {
     "data": {
      "image/png": "[encoded data removed]",
      "text/plain": [
       "<Figure size 1000x1000 with 1 Axes>"
      ]
     },
     "metadata": {},
     "output_type": "display_data"
    }
   ],
   "source": [
    "show_env(env,run_path)"
   ]
  },
  {
   "cell_type": "code",
   "execution_count": 11,
   "id": "f539ffc0",
   "metadata": {},
   "outputs": [
    {
     "name": "stdout",
     "output_type": "stream",
     "text": [
      "[(4, 4), (4, 5), (4, 6), (4, 7), (3, 8), (3, 9), (4, 9), (3, 9), (4, 9), (3, 9), (4, 9), (5, 9), (5, 9), (5, 9), (5, 9), (4, 9), (5, 9), (4, 9), (5, 9), (6, 9), (6, 9), (5, 9), (4, 9), (4, 9), (4, 9), (3, 9), (2, 9), (2, 9), (2, 9), (2, 9), (3, 9), (2, 9), (3, 9), (3, 9), (3, 9), (3, 9), (2, 9), (3, 9), (2, 9), (3, 9), (4, 9), (4, 9), (4, 9), (5, 9), (4, 9), (4, 9), (4, 9), (4, 9), (4, 9), (3, 9), (4, 9), (5, 9), (5, 9), (5, 9), (5, 9), (4, 9), (3, 9), (3, 9), (4, 9), (5, 9), (4, 9), (3, 9), (3, 9), (4, 9), (5, 9), (6, 9), (6, 9), (6, 9), (5, 9), (4, 9), (3, 9), (2, 9), (1, 9), (2, 9), (3, 9), (2, 9), (3, 9), (3, 9), (4, 9), (4, 9), (4, 9), (3, 9), (4, 9), (3, 9), (3, 9), (3, 9), (4, 9), (4, 9), (4, 9), (3, 9), (4, 9), (5, 9), (4, 9), (3, 9), (4, 9), (5, 9), (5, 9), (4, 9), (3, 9), (4, 9), (4, 9), (3, 9), (2, 9), (3, 9), (4, 9), (4, 9), (4, 9), (3, 9), (4, 9), (3, 9), (4, 9), (3, 9), (3, 9), (2, 9), (3, 9), (3, 9), (4, 9), (4, 9), (3, 9), (3, 9), (3, 9), (4, 9), (5, 9), (4, 9), (3, 9), (3, 9), (2, 9), (3, 9), (4, 9), (5, 9), (6, 9), (5, 9), (5, 9), (5, 9), (5, 9), (6, 9), (5, 9), (4, 9), (4, 9), (3, 9), (2, 9), (2, 9), (3, 9), (2, 9), (2, 9), (2, 9), (1, 9), (0, 9), (0, 9), (0, 9), (1, 9), (0, 9), (1, 9), (0, 9), (0, 9), (1, 9), (1, 9), (1, 9), (2, 9), (3, 9), (4, 9), (5, 9), (5, 9), (5, 9), (6, 9), (5, 9), (5, 9), (6, 9), (7, 9), (7, 9), (6, 9), (5, 9), (4, 9), (4, 9), (5, 9), (5, 9), (5, 9), (5, 9), (4, 9), (4, 9), (5, 9), (5, 9), (5, 9), (5, 9), (4, 9), (5, 9), (4, 9), (5, 9), (4, 9), (5, 9), (4, 9), (4, 9), (5, 9), (6, 9), (6, 9), (5, 9), (6, 9), (7, 9), (8, 9), (7, 9), (6, 9)]\n"
     ]
    }
   ],
   "source": [
    "print(run_path)"
   ]
  },
  {
   "cell_type": "code",
   "execution_count": null,
   "id": "bd73f3a3",
   "metadata": {},
   "outputs": [],
   "source": []
  }
 ],
 "metadata": {
  "kernelspec": {
   "display_name": "Python 3 (ipykernel)",
   "language": "python",
   "name": "python3"
  },
  "language_info": {
   "codemirror_mode": {
    "name": "ipython",
    "version": 3
   },
   "file_extension": ".py",
   "mimetype": "text/x-python",
   "name": "python",
   "nbconvert_exporter": "python",
   "pygments_lexer": "ipython3",
   "version": "3.8.10"
  }
 },
 "nbformat": 4,
 "nbformat_minor": 5
}
