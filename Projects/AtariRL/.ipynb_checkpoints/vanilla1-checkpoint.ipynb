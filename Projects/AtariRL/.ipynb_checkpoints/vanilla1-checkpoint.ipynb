{
 "cells": [
  {
   "cell_type": "markdown",
   "id": "b1d6d9d1",
   "metadata": {},
   "source": [
    "https://pythonprogramming.net/q-learning-analysis-reinforcement-learning-python-tutorial/\n",
    "\n",
    "# Vanilla Q-Learning"
   ]
  },
  {
   "cell_type": "code",
   "execution_count": null,
   "id": "67fc7862",
   "metadata": {},
   "outputs": [],
   "source": [
    "https://pythonprogramming.net/q-learning-analysis-reinforcement-learning-python-tutorial/"
   ]
  }
 ],
 "metadata": {
  "kernelspec": {
   "display_name": "Python 3",
   "language": "python",
   "name": "python3"
  },
  "language_info": {
   "codemirror_mode": {
    "name": "ipython",
    "version": 3
   },
   "file_extension": ".py",
   "mimetype": "text/x-python",
   "name": "python",
   "nbconvert_exporter": "python",
   "pygments_lexer": "ipython3",
   "version": "3.8.8"
  }
 },
 "nbformat": 4,
 "nbformat_minor": 5
}
