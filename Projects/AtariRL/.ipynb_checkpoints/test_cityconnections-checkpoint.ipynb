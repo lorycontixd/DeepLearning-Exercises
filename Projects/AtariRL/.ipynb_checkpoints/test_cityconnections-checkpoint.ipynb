{
 "cells": [
  {
   "cell_type": "code",
   "execution_count": 1,
   "id": "e1bfb67e",
   "metadata": {},
   "outputs": [],
   "source": [
    "# Imports\n",
    "import random\n",
    "import numpy as np\n",
    "from dataclasses import dataclass\n",
    "from matplotlib import pyplot as plt"
   ]
  },
  {
   "cell_type": "code",
   "execution_count": 2,
   "id": "71b484d6",
   "metadata": {},
   "outputs": [
    {
     "ename": "NameError",
     "evalue": "name 'gridcolumns' is not defined",
     "output_type": "error",
     "traceback": [
      "\u001b[0;31m---------------------------------------------------------------------------\u001b[0m",
      "\u001b[0;31mNameError\u001b[0m                                 Traceback (most recent call last)",
      "\u001b[0;32m<ipython-input-2-fbe261b8f4bb>\u001b[0m in \u001b[0;36m<module>\u001b[0;34m\u001b[0m\n\u001b[1;32m     11\u001b[0m \u001b[0mobstaclereward\u001b[0m \u001b[0;34m=\u001b[0m \u001b[0;34m-\u001b[0m\u001b[0;36m100\u001b[0m\u001b[0;34m\u001b[0m\u001b[0;34m\u001b[0m\u001b[0m\n\u001b[1;32m     12\u001b[0m \u001b[0;34m\u001b[0m\u001b[0m\n\u001b[0;32m---> 13\u001b[0;31m \u001b[0mq_values\u001b[0m \u001b[0;34m=\u001b[0m \u001b[0mnp\u001b[0m\u001b[0;34m.\u001b[0m\u001b[0mzeros\u001b[0m\u001b[0;34m(\u001b[0m\u001b[0;34m(\u001b[0m\u001b[0mgridcolumns\u001b[0m\u001b[0;34m,\u001b[0m \u001b[0mgridrows\u001b[0m\u001b[0;34m,\u001b[0m \u001b[0;36m4\u001b[0m\u001b[0;34m)\u001b[0m\u001b[0;34m)\u001b[0m\u001b[0;34m\u001b[0m\u001b[0;34m\u001b[0m\u001b[0m\n\u001b[0m\u001b[1;32m     14\u001b[0m \u001b[0mactions\u001b[0m \u001b[0;34m=\u001b[0m \u001b[0;34m[\u001b[0m\u001b[0;34m'up'\u001b[0m\u001b[0;34m,\u001b[0m \u001b[0;34m'down'\u001b[0m\u001b[0;34m,\u001b[0m \u001b[0;34m'left'\u001b[0m\u001b[0;34m,\u001b[0m \u001b[0;34m'right'\u001b[0m\u001b[0;34m]\u001b[0m\u001b[0;34m\u001b[0m\u001b[0;34m\u001b[0m\u001b[0m\n",
      "\u001b[0;31mNameError\u001b[0m: name 'gridcolumns' is not defined"
     ]
    }
   ],
   "source": [
    "##### environment setup\n",
    "# Map\n",
    "ncities = 20\n",
    "nobstacles = 100\n",
    "ncols = 30\n",
    "nrows = 30\n",
    "\n",
    "# Reward values\n",
    "cityreward = 100\n",
    "blankreward = -1\n",
    "obstaclereward = -100\n",
    "\n",
    "q_values = np.zeros((gridcolumns, gridrows, 4))\n",
    "actions = ['up', 'down', 'left', 'right']"
   ]
  },
  {
   "cell_type": "code",
   "execution_count": null,
   "id": "6b7c3f8e",
   "metadata": {},
   "outputs": [],
   "source": [
    "# Obstacles\n",
    "obstacles = []\n",
    "for i in range(nobstacles):\n",
    "    while (len(obstacles) < nobstacles):\n",
    "        x = random.randint(0, ncols-1)\n",
    "        y = random.randint(0, nrows-1)\n",
    "        if (x,y) not in obstacles:\n",
    "            obstacles.append((x,y))\n",
    "\n",
    "# Cities\n",
    "cities = []\n",
    "for i in range(ncities):\n",
    "    while (len(cities) < ncities):\n",
    "        x = random.randint(0, ncols-1)\n",
    "        y = random.randint(0, nrows-1)\n",
    "        if (x,y) not in cities and (x,y) not in obstacles:\n",
    "            cities.append((x,y))\n",
    "\n",
    "# Rewards\n",
    "rewards = np.full((ncols, nrows), blankreward)\n",
    "for o in obstacles:\n",
    "    rewards[o[0]][o[1]] = obstaclereward\n",
    "for c in cities:\n",
    "    rewards[c[0]][c[1]] = cityreward\n",
    "\n",
    "fig, ax = plt.subplots(figsize=(9,9))\n",
    "plt.title(\"City & Obstacle distribution\")\n",
    "plt.xlabel(\"x-coordinate\")\n",
    "plt.ylabel(\"y-coordinate\")\n",
    "ax.imshow(rewards)\n",
    "plt.plot()"
   ]
  },
  {
   "cell_type": "code",
   "execution_count": null,
   "id": "284ce674",
   "metadata": {},
   "outputs": [],
   "source": [
    "def is_city(x,y):\n",
    "    return (rewards[x][y] == cityreward)\n",
    "def is_obstacle(x,y):\n",
    "    return rewards[x][y] == obstaclereward\n",
    "\n",
    "\n",
    "def get_next_action(row, col, action_count, epsilon):\n",
    "    \"\"\"\n",
    "    Get next action using the epsilon greedy algorithm\n",
    "    If if a randomly chosen value between 0 and 1 is less than epsilon, \n",
    "    then choose the most promising value from the Q-table for this state.\n",
    "    \"\"\"\n",
    "    if np.random.random() < epsilon:\n",
    "        return np.argmax(q_values[row, col])\n",
    "    else: #choose a random action\n",
    "        return np.random.randint(action_count\n",
    "    \n",
    "def get_next_location(row, col, action_index):\n",
    "    new_row_index = current_row_index\n",
    "    new_column_index = current_column_index\n",
    "    if actions[action_index] == 'up' and current_row_index > 0:\n",
    "        new_row_index -= 1\n",
    "    elif actions[action_index] == 'right' and current_column_index < environment_columns - 1:\n",
    "        new_column_index += 1\n",
    "    elif actions[action_index] == 'down' and current_row_index < environment_rows - 1:\n",
    "        new_row_index += 1\n",
    "    elif actions[action_index] == 'left' and current_column_index > 0:\n",
    "        new_column_index -= 1\n",
    "    return new_row_index, new_column_index"
   ]
  },
  {
   "cell_type": "code",
   "execution_count": null,
   "id": "63413945",
   "metadata": {},
   "outputs": [],
   "source": []
  }
 ],
 "metadata": {
  "kernelspec": {
   "display_name": "Python 3",
   "language": "python",
   "name": "python3"
  },
  "language_info": {
   "codemirror_mode": {
    "name": "ipython",
    "version": 3
   },
   "file_extension": ".py",
   "mimetype": "text/x-python",
   "name": "python",
   "nbconvert_exporter": "python",
   "pygments_lexer": "ipython3",
   "version": "3.9.4"
  }
 },
 "nbformat": 4,
 "nbformat_minor": 5
}
