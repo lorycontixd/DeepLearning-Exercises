{
 "cells": [
  {
   "cell_type": "code",
   "execution_count": 42,
   "id": "e1bfb67e",
   "metadata": {},
   "outputs": [],
   "source": [
    "# Imports\n",
    "import random\n",
    "import numpy as np\n",
    "from dataclasses import dataclass\n",
    "from matplotlib import pyplot as plt"
   ]
  },
  {
   "cell_type": "code",
   "execution_count": 40,
   "id": "71b484d6",
   "metadata": {},
   "outputs": [],
   "source": [
    "##### environment setup\n",
    "# Map\n",
    "ncities = 20\n",
    "nobstacles = 100\n",
    "ncols = 30\n",
    "nrows = 30\n",
    "\n",
    "# Reward values\n",
    "cityreward = 100\n",
    "blankreward = -1\n",
    "obstaclereward = -100\n",
    "\n",
    "q_values = np.zeros((gridcolumns, gridrows, 4))\n",
    "actions = ['up', 'down', 'left', 'right']"
   ]
  },
  {
   "cell_type": "code",
   "execution_count": 46,
   "id": "6b7c3f8e",
   "metadata": {},
   "outputs": [
    {
     "data": {
      "text/plain": [
       "[]"
      ]
     },
     "execution_count": 46,
     "metadata": {},
     "output_type": "execute_result"
    },
    {
     "data": {
      "image/png": "[encoded data removed]",
      "text/plain": [
       "<Figure size 648x648 with 1 Axes>"
      ]
     },
     "metadata": {
      "needs_background": "light"
     },
     "output_type": "display_data"
    }
   ],
   "source": [
    "# Obstacles\n",
    "obstacles = []\n",
    "for i in range(nobstacles):\n",
    "    while (len(obstacles) < nobstacles):\n",
    "        x = random.randint(0, ncols-1)\n",
    "        y = random.randint(0, nrows-1)\n",
    "        if (x,y) not in obstacles:\n",
    "            obstacles.append((x,y))\n",
    "\n",
    "# Cities\n",
    "cities = []\n",
    "for i in range(ncities):\n",
    "    while (len(cities) < ncities):\n",
    "        x = random.randint(0, ncols-1)\n",
    "        y = random.randint(0, nrows-1)\n",
    "        if (x,y) not in cities and (x,y) not in obstacles:\n",
    "            cities.append((x,y))\n",
    "\n",
    "# Rewards\n",
    "rewards = np.full((ncols, nrows), blankreward)\n",
    "for o in obstacles:\n",
    "    rewards[o[0]][o[1]] = obstaclereward\n",
    "for c in cities:\n",
    "    rewards[c[0]][c[1]] = cityreward\n",
    "\n",
    "fig, ax = plt.subplots(figsize=(9,9))\n",
    "plt.title(\"City & Obstacle distribution\")\n",
    "plt.xlabel(\"x-coordinate\")\n",
    "plt.ylabel(\"y-coordinate\")\n",
    "ax.imshow(rewards)\n",
    "plt.plot()"
   ]
  },
  {
   "cell_type": "code",
   "execution_count": 47,
   "id": "284ce674",
   "metadata": {},
   "outputs": [],
   "source": [
    "def is_city(x,y):\n",
    "    return (rewards[x][y] == cityreward)\n",
    "def is_obstacle(x,y):\n",
    "    return rewards[x][y] == obstaclereward\n",
    "        "
   ]
  },
  {
   "cell_type": "code",
   "execution_count": null,
   "id": "63413945",
   "metadata": {},
   "outputs": [],
   "source": []
  }
 ],
 "metadata": {
  "kernelspec": {
   "display_name": "Python 3",
   "language": "python",
   "name": "python3"
  },
  "language_info": {
   "codemirror_mode": {
    "name": "ipython",
    "version": 3
   },
   "file_extension": ".py",
   "mimetype": "text/x-python",
   "name": "python",
   "nbconvert_exporter": "python",
   "pygments_lexer": "ipython3",
   "version": "3.8.8"
  }
 },
 "nbformat": 4,
 "nbformat_minor": 5
}
