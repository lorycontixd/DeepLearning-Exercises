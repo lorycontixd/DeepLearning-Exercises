{
 "cells": [
  {
   "cell_type": "markdown",
   "id": "373debdf",
   "metadata": {},
   "source": [
    "# Vanilla 2\n",
    "\n",
    "This run is a good one, but the structure is bad."
   ]
  },
  {
   "cell_type": "code",
   "execution_count": 1,
   "id": "27aba470",
   "metadata": {},
   "outputs": [],
   "source": [
    "import random\n",
    "import numpy as np\n",
    "import seaborn as sns\n",
    "from dataclasses import dataclass\n",
    "from enum import IntEnum\n",
    "from matplotlib import pyplot as plt"
   ]
  },
  {
   "cell_type": "code",
   "execution_count": 2,
   "id": "8a78df0a",
   "metadata": {},
   "outputs": [
    {
     "name": "stdout",
     "output_type": "stream",
     "text": [
      "[[ -5  -5  -5  -5  -5  -5]\n",
      " [ -5 -20  -5 -20  -5  -5]\n",
      " [ -5 -20  -5  -5 -20  -5]\n",
      " [ -5 -20  -5  -5  -5 -20]\n",
      " [ -5 -20  -5  -5 500  -5]\n",
      " [ -5  -5 -20  -5  -5 -20]]\n"
     ]
    }
   ],
   "source": [
    "rewards = np.full(shape=(6,6), fill_value=-5)\n",
    "#rewards[0,2] = -20\n",
    "rewards[1,1] = -20\n",
    "rewards[2,1] = -20\n",
    "rewards[3,1] = -20\n",
    "rewards[4,1] = -20\n",
    "rewards[5,2] = -20\n",
    "rewards[1,3] = -20\n",
    "#rewards[3,3] = -20\n",
    "rewards[2,4] = -20\n",
    "rewards[3,5] = -20\n",
    "rewards[5,5] = -20\n",
    "rewards[4,4] = 500\n",
    "\n",
    "print(rewards)\n",
    "\n",
    "\n",
    "#class Action(IntEnum):\n",
    "#    UP = 0\n",
    "#    DOWN = 1\n",
    "#    LEFT = 2\n",
    "#    RIGHT = 3\n",
    "\n",
    "@dataclass\n",
    "class Transition:\n",
    "    oldstate: tuple\n",
    "    newstate: tuple\n",
    "    reward: int\n",
    "    action: str\n",
    "    \n",
    "    \n",
    "class EpisodeStats:\n",
    "    def __init__(self, epoch: int, epsilon: float, start_position: tuple):\n",
    "        # At start\n",
    "        self.start_position = start_position\n",
    "        self.epoch = epoch\n",
    "        self.epsilon = epsilon\n",
    "        # At runtime\n",
    "        self.iterations = 0\n",
    "        self.path = []\n",
    "        self.path.append(self.start_position)\n",
    "        self.steps_taken = np.zeros(shape=(SIZE,SIZE))\n",
    "        self.steps_taken[start_position[0], start_position[1]] += 1\n",
    "        self.penalties_given = 0\n",
    "        self.average_rewards = []\n",
    "        self.rewards = []\n",
    "        self.actions = []\n",
    "        self.end_state = None # Tuple to register endstate\n",
    "    \n",
    "    def reached_goal(self, goal: tuple):\n",
    "        if (self.end_state is not None):\n",
    "            return goal == self.end_state\n",
    "        else:\n",
    "            raise ValueError(\"Asking for goal reach, but end state is not set\")\n",
    "    \n",
    "    def add_step(self, transition: Transition, is_penalty: bool):\n",
    "        self.iterations += 1\n",
    "        self.path.append(transition.newstate)\n",
    "        self.steps_taken[transition.newstate[0], transition.newstate[1]] += 1\n",
    "        self.rewards.append(transition.reward)\n",
    "        self.average_rewards.append(sum(self.rewards) / self.iterations)\n",
    "        self.actions.append(transition.action)\n",
    "        if is_penalty:\n",
    "            self.penalties_given += 1\n",
    "    \n",
    "    def set_end_state(self, end_state: tuple):\n",
    "        self.end_state = end_state\n",
    "\n",
    "        \n",
    "actions = ['up', 'down', 'left', 'right']\n",
    "\n",
    "SIZE = 6\n",
    "# PARAMETERS\n",
    "EPOCHS = 25000\n",
    "DISCOUNT = 0.9\n",
    "LEARNING_RATE = 0.1\n",
    "STATS_EVERY = 500\n",
    "## Epsilon\n",
    "epsilon = 0.999\n",
    "epsilon_start_decaying = 1\n",
    "epsilon_end_decaying = EPOCHS\n",
    "epsilon_decay_value = epsilon/(epsilon_end_decaying - epsilon_start_decaying)\n",
    "\n",
    "MAXITERATIONS = 1000\n",
    "START = (1,4)\n",
    "END = (4,4)\n",
    "ENEMYREWARD = -20\n",
    "WALLREWARD = -50\n",
    "FOODREWARD = 500\n",
    "CHECKPOINTREWARD = 2\n",
    "CHECKPOINTPENALTY = -2\n",
    "\n",
    "DEBUG_MODE = True\n",
    "def step(x: int, y: int, action: str):\n",
    "    global rewards\n",
    "    info = {}\n",
    "    \n",
    "    # Take action\n",
    "    if (action == 0):\n",
    "        next_state = (x-1, y)\n",
    "    elif (action == 1):\n",
    "        next_state = (x+1, y)\n",
    "    elif (action == 2):\n",
    "        next_state = (x, y-1)\n",
    "    elif (action == 3):\n",
    "        next_state = (x, y+1)\n",
    "    else:\n",
    "        raise ValueError(\"Should never happen\")\n",
    "    \n",
    "    # If state is illegal, return old state\n",
    "    if (next_state[0] < 0 or next_state[0] > SIZE - 1 or next_state[1] < 0 or next_state[1] > SIZE - 1):\n",
    "        #print(\"Invalid step taken: \", (x,y), \" - wanted to go to: \",next_state)\n",
    "        next_state = (x,y)\n",
    "    reward = rewards[next_state[0], next_state[1]]  \n",
    "    done = reward == FOODREWARD or reward == ENEMYREWARD\n",
    "    return next_state, reward, done, info"
   ]
  },
  {
   "cell_type": "code",
   "execution_count": 3,
   "id": "5f9a2369",
   "metadata": {},
   "outputs": [
    {
     "name": "stdout",
     "output_type": "stream",
     "text": [
      "Q-Table initialized with shape: (6, 6, 4)\n",
      "Episode:     0, average reward: -0.0, current epsilon: 1.00, reached goals: 0, max interactions reached: 0\n",
      "Episode:   500, average reward: -40.2, current epsilon: 0.98, reached goals: 0, max interactions reached: 0\n",
      "Episode:  1000, average reward: -40.1, current epsilon: 0.96, reached goals: 1, max interactions reached: 0\n",
      "Episode:  1500, average reward: -42.8, current epsilon: 0.94, reached goals: 1, max interactions reached: 0\n",
      "Episode:  2000, average reward: -37.0, current epsilon: 0.92, reached goals: 1, max interactions reached: 0\n",
      "Episode:  2500, average reward: -35.2, current epsilon: 0.90, reached goals: 2, max interactions reached: 0\n",
      "Episode:  3000, average reward: -35.7, current epsilon: 0.88, reached goals: 3, max interactions reached: 0\n",
      "Episode:  3500, average reward: -33.1, current epsilon: 0.86, reached goals: 4, max interactions reached: 0\n",
      "Episode:  4000, average reward: -33.4, current epsilon: 0.84, reached goals: 5, max interactions reached: 0\n",
      "Episode:  4500, average reward: -32.9, current epsilon: 0.82, reached goals: 5, max interactions reached: 0\n",
      "Episode:  5000, average reward: -33.4, current epsilon: 0.80, reached goals: 7, max interactions reached: 0\n",
      "Episode:  5500, average reward: -37.4, current epsilon: 0.78, reached goals: 14, max interactions reached: 0\n",
      "Episode:  6000, average reward: -35.2, current epsilon: 0.76, reached goals: 23, max interactions reached: 0\n",
      "Episode:  6500, average reward: -34.7, current epsilon: 0.74, reached goals: 34, max interactions reached: 0\n",
      "Episode:  7000, average reward: -40.8, current epsilon: 0.72, reached goals: 42, max interactions reached: 0\n",
      "Episode:  7500, average reward: -31.0, current epsilon: 0.70, reached goals: 58, max interactions reached: 0\n",
      "Episode:  8000, average reward: -21.7, current epsilon: 0.68, reached goals: 83, max interactions reached: 0\n",
      "Episode:  8500, average reward: -21.7, current epsilon: 0.66, reached goals: 108, max interactions reached: 0\n",
      "Episode:  9000, average reward: -22.7, current epsilon: 0.64, reached goals: 133, max interactions reached: 0\n",
      "Episode:  9500, average reward: -16.0, current epsilon: 0.62, reached goals: 163, max interactions reached: 0\n",
      "Episode: 10000, average reward: -16.6, current epsilon: 0.60, reached goals: 196, max interactions reached: 0\n",
      "Episode: 10500, average reward: -3.2, current epsilon: 0.58, reached goals: 243, max interactions reached: 0\n",
      "Episode: 11000, average reward:  0.4, current epsilon: 0.56, reached goals: 293, max interactions reached: 0\n",
      "Episode: 11500, average reward: 20.2, current epsilon: 0.54, reached goals: 361, max interactions reached: 0\n",
      "Episode: 12000, average reward: 27.9, current epsilon: 0.52, reached goals: 437, max interactions reached: 0\n",
      "Episode: 12500, average reward: 31.0, current epsilon: 0.50, reached goals: 518, max interactions reached: 0\n",
      "Episode: 13000, average reward: 47.2, current epsilon: 0.48, reached goals: 614, max interactions reached: 0\n",
      "Episode: 13500, average reward: 45.9, current epsilon: 0.46, reached goals: 708, max interactions reached: 0\n",
      "Episode: 14000, average reward: 55.5, current epsilon: 0.44, reached goals: 814, max interactions reached: 0\n",
      "Episode: 14500, average reward: 51.8, current epsilon: 0.42, reached goals: 914, max interactions reached: 0\n",
      "Episode: 15000, average reward: 79.7, current epsilon: 0.40, reached goals: 1043, max interactions reached: 0\n",
      "Episode: 15500, average reward: 98.7, current epsilon: 0.38, reached goals: 1190, max interactions reached: 0\n",
      "Episode: 16000, average reward: 109.3, current epsilon: 0.36, reached goals: 1347, max interactions reached: 0\n",
      "Episode: 16500, average reward: 123.8, current epsilon: 0.34, reached goals: 1521, max interactions reached: 0\n",
      "Episode: 17000, average reward: 144.2, current epsilon: 0.32, reached goals: 1714, max interactions reached: 0\n",
      "Episode: 17500, average reward: 142.2, current epsilon: 0.30, reached goals: 1903, max interactions reached: 0\n",
      "Episode: 18000, average reward: 172.4, current epsilon: 0.28, reached goals: 2124, max interactions reached: 0\n",
      "Episode: 18500, average reward: 197.4, current epsilon: 0.26, reached goals: 2368, max interactions reached: 0\n",
      "Episode: 19000, average reward: 229.5, current epsilon: 0.24, reached goals: 2644, max interactions reached: 0\n",
      "Episode: 19500, average reward: 246.1, current epsilon: 0.22, reached goals: 2936, max interactions reached: 0\n",
      "Episode: 20000, average reward: 262.5, current epsilon: 0.20, reached goals: 3244, max interactions reached: 0\n",
      "Episode: 20500, average reward: 250.0, current epsilon: 0.18, reached goals: 3539, max interactions reached: 0\n",
      "Episode: 21000, average reward: 279.1, current epsilon: 0.16, reached goals: 3862, max interactions reached: 0\n",
      "Episode: 21500, average reward: 298.6, current epsilon: 0.14, reached goals: 4205, max interactions reached: 0\n",
      "Episode: 22000, average reward: 324.5, current epsilon: 0.12, reached goals: 4574, max interactions reached: 0\n",
      "Episode: 22500, average reward: 336.2, current epsilon: 0.10, reached goals: 4954, max interactions reached: 0\n",
      "Episode: 23000, average reward: 359.0, current epsilon: 0.08, reached goals: 5356, max interactions reached: 0\n",
      "Episode: 23500, average reward: 382.6, current epsilon: 0.06, reached goals: 5781, max interactions reached: 0\n",
      "Episode: 24000, average reward: 405.3, current epsilon: 0.04, reached goals: 6228, max interactions reached: 0\n",
      "Episode: 24500, average reward: 425.0, current epsilon: 0.02, reached goals: 6694, max interactions reached: 0\n"
     ]
    }
   ],
   "source": [
    "\n",
    "q_table = np.zeros([SIZE, SIZE, len(actions)])\n",
    "\n",
    "if (DEBUG_MODE):\n",
    "    print(f\"Q-Table initialized with shape: {q_table.shape}\")\n",
    "    \n",
    "# Overall stats\n",
    "aggr_ep_rewards = {'ep': [], 'avg': [], 'max': [], 'min': [], 'epsilon': []}\n",
    "epoch_overall_stats = []\n",
    "epochs_ended_for_max_iterations = 0\n",
    "for epoch in range(EPOCHS):\n",
    "    # For Stats\n",
    "    episode_stats = EpisodeStats(epoch=epoch, epsilon=epsilon, start_position=START)\n",
    "    average_rewards = []\n",
    "\n",
    "    # Reset variables\n",
    "    state = START\n",
    "    reward = 0\n",
    "    iterations = 0\n",
    "    is_penalty = False\n",
    "    done = False\n",
    "    \n",
    "    while not done:\n",
    "        # Choose action\n",
    "        if random.uniform(0, 1) < epsilon:\n",
    "            action = np.random.randint(0, len(actions))\n",
    "        else:\n",
    "            action = np.argmax(q_table[state[0], state[1]])\n",
    "        # Take action & register\n",
    "        newstate, reward, done, _ = step(state[0], state[1], action)\n",
    "        is_penalty = reward == ENEMYREWARD or reward == WALLREWARD\n",
    "        \n",
    "        transition = Transition(oldstate = state, newstate = newstate, reward = reward, action = action)\n",
    "        episode_stats.add_step(transition, is_penalty)\n",
    "        \n",
    "        old_qvalue = q_table[state[0], state[1], action]\n",
    "        next_max = np.max(q_table[newstate[0], newstate[1]])\n",
    "        new_value = (1 - LEARNING_RATE) * old_qvalue + LEARNING_RATE * (reward + DISCOUNT * next_max)\n",
    "        q_table[state[0], state[1], action] = new_value\n",
    "        \n",
    "        state = newstate\n",
    "        if (iterations==MAXITERATIONS):\n",
    "            epochs_ended_for_max_iterations += 1\n",
    "            break\n",
    "        iterations += 1\n",
    "    \n",
    "    #### End of epoch\n",
    "    episode_stats.set_end_state(newstate)\n",
    "    epoch_overall_stats.append(episode_stats)\n",
    "    \n",
    "    if not epoch % STATS_EVERY:\n",
    "        ep_rewards = [sum(e.rewards) for e in epoch_overall_stats]\n",
    "        average_reward = sum(ep_rewards[-STATS_EVERY:])/STATS_EVERY\n",
    "        aggr_ep_rewards['ep'].append(epoch)\n",
    "        aggr_ep_rewards['avg'].append(average_reward)\n",
    "        aggr_ep_rewards['max'].append(max(ep_rewards[-STATS_EVERY:]))\n",
    "        aggr_ep_rewards['min'].append(min(ep_rewards[-STATS_EVERY:]))\n",
    "        ## Print\n",
    "        if DEBUG_MODE:\n",
    "            reached_goals_count = len([p for p in epoch_overall_stats if END in p.path])\n",
    "            print(f'Episode: {epoch:>5d}, average reward: {average_reward:>4.1f}, current epsilon: {epsilon:>1.2f}, reached goals: {reached_goals_count}, max interactions reached: {epochs_ended_for_max_iterations}')\n",
    "    if epsilon_end_decaying >= epoch >= epsilon_start_decaying:\n",
    "            epsilon -= epsilon_decay_value"
   ]
  },
  {
   "cell_type": "code",
   "execution_count": 4,
   "id": "049f982c",
   "metadata": {},
   "outputs": [
    {
     "name": "stdout",
     "output_type": "stream",
     "text": [
      "== Results after 25000 epochs ==\n",
      "Total iterations: 177023\n",
      "Average timesteps per episode: 7.08092\n",
      "Average penalties per episode: 0.71276\n"
     ]
    }
   ],
   "source": [
    "total_iterations = sum(c.iterations for c in epoch_overall_stats)\n",
    "total_penalties = sum(c.penalties_given for c in epoch_overall_stats)\n",
    "\n",
    "print(f\"== Results after {EPOCHS} epochs ==\")\n",
    "print(f\"Total iterations: {total_iterations}\")\n",
    "print(f\"Average timesteps per episode: {total_iterations / EPOCHS}\")\n",
    "print(f\"Average penalties per episode: {total_penalties / EPOCHS}\")"
   ]
  },
  {
   "cell_type": "code",
   "execution_count": 5,
   "id": "6cb01d16",
   "metadata": {},
   "outputs": [
    {
     "data": {
      "image/png": "[encoded data removed]",
      "text/plain": [
       "<Figure size 864x576 with 1 Axes>"
      ]
     },
     "metadata": {
      "needs_background": "light"
     },
     "output_type": "display_data"
    }
   ],
   "source": [
    "fig, ax = plt.subplots(figsize=(12,8))\n",
    "plt.plot(aggr_ep_rewards['ep'], aggr_ep_rewards['avg'], label=\"average rewards\")\n",
    "plt.plot(aggr_ep_rewards['ep'], aggr_ep_rewards['max'], label=\"max rewards\")\n",
    "plt.plot(aggr_ep_rewards['ep'], aggr_ep_rewards['min'], label=\"min rewards\")\n",
    "plt.legend(loc=4)\n",
    "plt.grid(True)\n",
    "plt.show()"
   ]
  },
  {
   "cell_type": "code",
   "execution_count": 6,
   "id": "a1171e11",
   "metadata": {},
   "outputs": [
    {
     "name": "stdout",
     "output_type": "stream",
     "text": [
      "{'start_position': (1, 4), 'epoch': 24999, 'epsilon': 3.996159804402922e-05, 'iterations': 9, 'path': [(1, 4), (0, 4), (0, 3), (0, 2), (1, 2), (2, 2), (3, 2), (4, 2), (4, 3), (4, 4)], 'steps_taken': array([[0., 0., 1., 1., 1., 0.],\n",
      "       [0., 0., 1., 0., 1., 0.],\n",
      "       [0., 0., 1., 0., 0., 0.],\n",
      "       [0., 0., 1., 0., 0., 0.],\n",
      "       [0., 0., 1., 1., 1., 0.],\n",
      "       [0., 0., 0., 0., 0., 0.]]), 'penalties_given': 0, 'average_rewards': [-5.0, -5.0, -5.0, -5.0, -5.0, -5.0, -5.0, -5.0, 51.111111111111114], 'rewards': [-5, -5, -5, -5, -5, -5, -5, -5, 500], 'actions': [0, 2, 2, 1, 1, 1, 1, 3, 3], 'end_state': (4, 4)}\n"
     ]
    }
   ],
   "source": [
    "print(epoch_overall_stats[-1].__dict__)"
   ]
  },
  {
   "cell_type": "code",
   "execution_count": 7,
   "id": "72ff4cf5",
   "metadata": {},
   "outputs": [
    {
     "name": "stdout",
     "output_type": "stream",
     "text": [
      "[25, 94, 154, 188, 194, 527, 603, 865, 915, 956]\n"
     ]
    }
   ],
   "source": [
    "temp = [i for i in range(len(epoch_overall_stats)) if (2,2) in epoch_overall_stats[i].path]\n",
    "print(temp[:10])"
   ]
  },
  {
   "cell_type": "code",
   "execution_count": 8,
   "id": "96255a0f",
   "metadata": {},
   "outputs": [
    {
     "name": "stdout",
     "output_type": "stream",
     "text": [
      "Good paths:  7181  -  7181\n"
     ]
    }
   ],
   "source": [
    "goodpath_indexes_in_allpaths = [i for i in range(len(epoch_overall_stats)) if (4,4) in epoch_overall_stats[i].path]\n",
    "goodpaths = [epoch_overall_stats[i].path for i in goodpath_indexes_in_allpaths]\n",
    "print(\"Good paths: \", len(goodpaths), \" - \", len(goodpath_indexes_in_allpaths))"
   ]
  },
  {
   "cell_type": "code",
   "execution_count": null,
   "id": "0760fa18",
   "metadata": {},
   "outputs": [],
   "source": []
  }
 ],
 "metadata": {
  "kernelspec": {
   "display_name": "Python 3",
   "language": "python",
   "name": "python3"
  },
  "language_info": {
   "codemirror_mode": {
    "name": "ipython",
    "version": 3
   },
   "file_extension": ".py",
   "mimetype": "text/x-python",
   "name": "python",
   "nbconvert_exporter": "python",
   "pygments_lexer": "ipython3",
   "version": "3.8.8"
  }
 },
 "nbformat": 4,
 "nbformat_minor": 5
}
