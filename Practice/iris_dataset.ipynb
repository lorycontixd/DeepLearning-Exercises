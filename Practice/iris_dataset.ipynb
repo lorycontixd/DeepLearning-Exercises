{
 "cells": [
  {
   "cell_type": "code",
   "execution_count": 1,
   "id": "3c9ee940",
   "metadata": {},
   "outputs": [],
   "source": [
    "import os\n",
    "import numpy as np\n",
    "from sklearn import decomposition\n",
    "\n",
    "dataset = \"../Datasets/iris/iris.data\""
   ]
  },
  {
   "cell_type": "code",
   "execution_count": 2,
   "id": "653d8cfd",
   "metadata": {},
   "outputs": [
    {
     "name": "stdout",
     "output_type": "stream",
     "text": [
      "[ 45  74 142 123  98 107  40   2  16  77  15  67  81  75  22 136 120  59\n",
      " 129 134 103  72  25  76  66  10 100 137  54 110  92  46   3  36   1  80\n",
      "  47  79 111 121  29  43   5  94  71  86  61 112  63 109  58 126  18 105\n",
      "  57 106 145  17  28 138 140  73 108 135 122 144  96 143 125 117  49   8\n",
      "  13  89  56  20  87  83  48   9  52  88  23  24 141  85  60 148  39  32\n",
      "  69 118  64 149  53  35  38  84  31  95  14  44 104 128  65  62  21  97\n",
      "   0 124 131 115 116  90 119 127  37  78  26  34   6 101  93  99  82 102\n",
      "  51  68 146  19 133  91  41  27  50 114 132 139 113   4  70 147   7  11\n",
      "  42 130  12  55  33  30]\n"
     ]
    }
   ],
   "source": [
    "with open(dataset, \"r+\") as f:\n",
    "    lines = f.read().split('\\n')\n",
    "    lines = [l.split(',') for l in lines]\n",
    "y_str = list(filter(None, list([l[-1] for l in lines])))\n",
    "classes = list(filter(None, list(set([l[-1] for l in lines]))))\n",
    "y = np.array([classes.index(item) for item in y_str])\n",
    "x = np.array([l[:-1] for l in lines if len(l[:-1])> 0], dtype=np.float32)\n",
    "\n",
    "np.save('../Datasets/iris/iris_features.npy', x)\n",
    "np.save('../Datasets/iris/iris_labels.npy', y)\n",
    "\n",
    "i = np.argsort(np.random.random(x.shape[0])) # Shuffle features\n",
    "x = x[i]\n",
    "y = y[i]"
   ]
  },
  {
   "cell_type": "code",
   "execution_count": null,
   "id": "94d3b9e0",
   "metadata": {},
   "outputs": [],
   "source": []
  }
 ],
 "metadata": {
  "kernelspec": {
   "display_name": "Python 3",
   "language": "python",
   "name": "python3"
  },
  "language_info": {
   "codemirror_mode": {
    "name": "ipython",
    "version": 3
   },
   "file_extension": ".py",
   "mimetype": "text/x-python",
   "name": "python",
   "nbconvert_exporter": "python",
   "pygments_lexer": "ipython3",
   "version": "3.8.8"
  }
 },
 "nbformat": 4,
 "nbformat_minor": 5
}
