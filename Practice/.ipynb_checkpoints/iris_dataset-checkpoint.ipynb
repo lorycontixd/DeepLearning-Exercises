{
 "cells": [
  {
   "cell_type": "code",
   "execution_count": 5,
   "id": "0129c4c1",
   "metadata": {},
   "outputs": [],
   "source": [
    "import os\n",
    "import numpy as np\n",
    "from sklearn import decomposition\n",
    "\n",
    "dataset = \"../Datasets/iris/iris.data\""
   ]
  },
  {
   "cell_type": "code",
   "execution_count": 50,
   "id": "8c295760",
   "metadata": {},
   "outputs": [
    {
     "name": "stdout",
     "output_type": "stream",
     "text": [
      "(150, 4)\n",
      "(150,)\n"
     ]
    }
   ],
   "source": [
    "with open(dataset, \"r+\") as f:\n",
    "    lines = f.read().split('\\n')\n",
    "    lines = [l.split(',') for l in lines]\n",
    "    y_str = list(filter(None, list([l[-1] for l in lines])))\n",
    "    classes = list(filter(None, list(set([l[-1] for l in lines]))))\n",
    "    y = np.array([classes.index(item) for item in y_str])\n",
    "    \n",
    "    x = np.array([l[:-1] for l in lines if len(l[:-1])> 0], dtype=np.float32)"
   ]
  },
  {
   "cell_type": "code",
   "execution_count": null,
   "id": "d0859856",
   "metadata": {},
   "outputs": [],
   "source": []
  },
  {
   "cell_type": "code",
   "execution_count": null,
   "id": "0e38e5c0",
   "metadata": {},
   "outputs": [],
   "source": []
  }
 ],
 "metadata": {
  "kernelspec": {
   "display_name": "Python 3",
   "language": "python",
   "name": "python3"
  },
  "language_info": {
   "codemirror_mode": {
    "name": "ipython",
    "version": 3
   },
   "file_extension": ".py",
   "mimetype": "text/x-python",
   "name": "python",
   "nbconvert_exporter": "python",
   "pygments_lexer": "ipython3",
   "version": "3.8.8"
  }
 },
 "nbformat": 4,
 "nbformat_minor": 5
}
